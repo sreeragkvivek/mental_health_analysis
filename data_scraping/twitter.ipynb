{
  "cells": [
    {
      "cell_type": "markdown",
      "metadata": {},
      "source": [
        "# Twitter data analysis"
      ]
    },
    {
      "cell_type": "code",
      "execution_count": 1,
      "metadata": {
        "id": "nXp_NiS5KIfG"
      },
      "outputs": [],
      "source": [
        "import tweepy\n",
        "import pandas as pd\n",
        "import time\n",
        "import numpy as np\n",
        "import regex as re\n",
        "import matplotlib.pyplot as plt\n",
        "import seaborn as sns\n",
        "import string\n",
        "from textblob import TextBlob\n",
        "from dotenv import load_dotenv"
      ]
    },
    {
      "cell_type": "markdown",
      "metadata": {},
      "source": [
        "Getting data from twitter API"
      ]
    },
    {
      "cell_type": "code",
      "execution_count": 2,
      "metadata": {
        "id": "lpAsET-WJ_Ul"
      },
      "outputs": [],
      "source": [
        "load_dotenv()\n",
        "\n",
        "TWITTER_CONSUMER_KEY = os.getenv('TWITTER_CONSUMER_KEY')\n",
        "TWITTER_CONSUMER_SECRET = os.getenv('TWITTER_CONSUMER_SECRET')\n",
        "TWITTER_ACCESS_TOKEN = os.getenv('TWITTER_ACCESS_TOKEN')\n",
        "TWITTER_ACCESS_TOKEN_SECRET = os.getenv('TWITTER_ACCESS_TOKEN_SECRET')\n",
        "\n",
        "\n",
        "auth = tweepy.OAuthHandler(TWITTER_CONSUMER_KEY, TWITTER_CONSUMER_SECRET)\n",
        "auth.set_access_token(TWITTER_ACCESS_TOKEN, TWITTER_ACCESS_TOKEN_SECRET)\n",
        "api = tweepy.API(auth,wait_on_rate_limit=True)"
      ]
    },
    {
      "cell_type": "code",
      "execution_count": 3,
      "metadata": {
        "id": "-udbwqOeKLnN"
      },
      "outputs": [
        {
          "name": "stderr",
          "output_type": "stream",
          "text": [
            "Rate limit reached. Sleeping for: 613\n"
          ]
        }
      ],
      "source": [
        "# run this once to get data from API, after that, use saved data\n",
        "text_query = 'depression'\n",
        "count = 1000\n",
        "try:\n",
        " tweets = tweepy.Cursor(api.search_tweets,q=text_query).items(count)\n",
        " tweets_list = [[tweet.created_at, tweet.user.screen_name,tweet.favorite_count,tweet.retweet_count, tweet.text] for tweet in tweets]\n",
        " tweets_df = pd.DataFrame(tweets_list)\n",
        " \n",
        "except BaseException as e:\n",
        "    print('failed on_status,',str(e))\n",
        "    time.sleep(3)"
      ]
    },
    {
      "cell_type": "code",
      "execution_count": 4,
      "metadata": {
        "colab": {
          "base_uri": "https://localhost:8080/",
          "height": 206
        },
        "id": "J7Q2W_-JKSvR",
        "outputId": "9f0bab45-453f-4bd8-d45c-e4e1cc156755"
      },
      "outputs": [
        {
          "data": {
            "text/html": [
              "<div>\n",
              "<style scoped>\n",
              "    .dataframe tbody tr th:only-of-type {\n",
              "        vertical-align: middle;\n",
              "    }\n",
              "\n",
              "    .dataframe tbody tr th {\n",
              "        vertical-align: top;\n",
              "    }\n",
              "\n",
              "    .dataframe thead th {\n",
              "        text-align: right;\n",
              "    }\n",
              "</style>\n",
              "<table border=\"1\" class=\"dataframe\">\n",
              "  <thead>\n",
              "    <tr style=\"text-align: right;\">\n",
              "      <th></th>\n",
              "      <th>0</th>\n",
              "      <th>1</th>\n",
              "      <th>2</th>\n",
              "      <th>3</th>\n",
              "      <th>4</th>\n",
              "    </tr>\n",
              "  </thead>\n",
              "  <tbody>\n",
              "    <tr>\n",
              "      <th>0</th>\n",
              "      <td>2021-12-09 11:24:48+00:00</td>\n",
              "      <td>K8SRGL</td>\n",
              "      <td>0</td>\n",
              "      <td>2</td>\n",
              "      <td>RT @Fox0x01: When you spend a shit-load of mon...</td>\n",
              "    </tr>\n",
              "    <tr>\n",
              "      <th>1</th>\n",
              "      <td>2021-12-09 11:24:48+00:00</td>\n",
              "      <td>Rand0mGuest2</td>\n",
              "      <td>0</td>\n",
              "      <td>1</td>\n",
              "      <td>RT @Rand0mGuest2: Expect this marketplace to g...</td>\n",
              "    </tr>\n",
              "    <tr>\n",
              "      <th>2</th>\n",
              "      <td>2021-12-09 11:24:45+00:00</td>\n",
              "      <td>redribbonlips</td>\n",
              "      <td>0</td>\n",
              "      <td>126</td>\n",
              "      <td>RT @dimistrescu: You want me to talk dirty? Th...</td>\n",
              "    </tr>\n",
              "    <tr>\n",
              "      <th>3</th>\n",
              "      <td>2021-12-09 11:24:45+00:00</td>\n",
              "      <td>hazze_ebooks</td>\n",
              "      <td>0</td>\n",
              "      <td>0</td>\n",
              "      <td>you can just feel the depression</td>\n",
              "    </tr>\n",
              "    <tr>\n",
              "      <th>4</th>\n",
              "      <td>2021-12-09 11:24:42+00:00</td>\n",
              "      <td>jules369369369</td>\n",
              "      <td>0</td>\n",
              "      <td>670</td>\n",
              "      <td>RT @PamLongCO: Public health has a big campaig...</td>\n",
              "    </tr>\n",
              "  </tbody>\n",
              "</table>\n",
              "</div>"
            ],
            "text/plain": [
              "                          0               1  2    3  \\\n",
              "0 2021-12-09 11:24:48+00:00          K8SRGL  0    2   \n",
              "1 2021-12-09 11:24:48+00:00    Rand0mGuest2  0    1   \n",
              "2 2021-12-09 11:24:45+00:00   redribbonlips  0  126   \n",
              "3 2021-12-09 11:24:45+00:00    hazze_ebooks  0    0   \n",
              "4 2021-12-09 11:24:42+00:00  jules369369369  0  670   \n",
              "\n",
              "                                                   4  \n",
              "0  RT @Fox0x01: When you spend a shit-load of mon...  \n",
              "1  RT @Rand0mGuest2: Expect this marketplace to g...  \n",
              "2  RT @dimistrescu: You want me to talk dirty? Th...  \n",
              "3                   you can just feel the depression  \n",
              "4  RT @PamLongCO: Public health has a big campaig...  "
            ]
          },
          "execution_count": 4,
          "metadata": {},
          "output_type": "execute_result"
        }
      ],
      "source": [
        "tweets_df.to_csv(\"../uncleaned/twitter.csv\")\n",
        "tweets_df.head()"
      ]
    },
    {
      "cell_type": "code",
      "execution_count": 5,
      "metadata": {},
      "outputs": [
        {
          "data": {
            "text/html": [
              "<div>\n",
              "<style scoped>\n",
              "    .dataframe tbody tr th:only-of-type {\n",
              "        vertical-align: middle;\n",
              "    }\n",
              "\n",
              "    .dataframe tbody tr th {\n",
              "        vertical-align: top;\n",
              "    }\n",
              "\n",
              "    .dataframe thead th {\n",
              "        text-align: right;\n",
              "    }\n",
              "</style>\n",
              "<table border=\"1\" class=\"dataframe\">\n",
              "  <thead>\n",
              "    <tr style=\"text-align: right;\">\n",
              "      <th></th>\n",
              "      <th>0</th>\n",
              "      <th>1</th>\n",
              "      <th>2</th>\n",
              "      <th>3</th>\n",
              "      <th>4</th>\n",
              "    </tr>\n",
              "  </thead>\n",
              "  <tbody>\n",
              "    <tr>\n",
              "      <th>0</th>\n",
              "      <td>2021-12-09 11:24:48+00:00</td>\n",
              "      <td>K8SRGL</td>\n",
              "      <td>0</td>\n",
              "      <td>2</td>\n",
              "      <td>RT @Fox0x01: When you spend a shit-load of mon...</td>\n",
              "    </tr>\n",
              "    <tr>\n",
              "      <th>1</th>\n",
              "      <td>2021-12-09 11:24:48+00:00</td>\n",
              "      <td>Rand0mGuest2</td>\n",
              "      <td>0</td>\n",
              "      <td>1</td>\n",
              "      <td>RT @Rand0mGuest2: Expect this marketplace to g...</td>\n",
              "    </tr>\n",
              "    <tr>\n",
              "      <th>2</th>\n",
              "      <td>2021-12-09 11:24:45+00:00</td>\n",
              "      <td>redribbonlips</td>\n",
              "      <td>0</td>\n",
              "      <td>126</td>\n",
              "      <td>RT @dimistrescu: You want me to talk dirty? Th...</td>\n",
              "    </tr>\n",
              "    <tr>\n",
              "      <th>3</th>\n",
              "      <td>2021-12-09 11:24:45+00:00</td>\n",
              "      <td>hazze_ebooks</td>\n",
              "      <td>0</td>\n",
              "      <td>0</td>\n",
              "      <td>you can just feel the depression</td>\n",
              "    </tr>\n",
              "    <tr>\n",
              "      <th>4</th>\n",
              "      <td>2021-12-09 11:24:42+00:00</td>\n",
              "      <td>jules369369369</td>\n",
              "      <td>0</td>\n",
              "      <td>670</td>\n",
              "      <td>RT @PamLongCO: Public health has a big campaig...</td>\n",
              "    </tr>\n",
              "  </tbody>\n",
              "</table>\n",
              "</div>"
            ],
            "text/plain": [
              "                           0               1  2    3  \\\n",
              "0  2021-12-09 11:24:48+00:00          K8SRGL  0    2   \n",
              "1  2021-12-09 11:24:48+00:00    Rand0mGuest2  0    1   \n",
              "2  2021-12-09 11:24:45+00:00   redribbonlips  0  126   \n",
              "3  2021-12-09 11:24:45+00:00    hazze_ebooks  0    0   \n",
              "4  2021-12-09 11:24:42+00:00  jules369369369  0  670   \n",
              "\n",
              "                                                   4  \n",
              "0  RT @Fox0x01: When you spend a shit-load of mon...  \n",
              "1  RT @Rand0mGuest2: Expect this marketplace to g...  \n",
              "2  RT @dimistrescu: You want me to talk dirty? Th...  \n",
              "3                   you can just feel the depression  \n",
              "4  RT @PamLongCO: Public health has a big campaig...  "
            ]
          },
          "execution_count": 5,
          "metadata": {},
          "output_type": "execute_result"
        }
      ],
      "source": [
        "tweets_df=pd.read_csv(\"../uncleaned/twitter.csv\")\n",
        "tweets_df=tweets_df.drop(tweets_df.columns[0], axis = 1)\n",
        "tweets_df.head()"
      ]
    },
    {
      "cell_type": "code",
      "execution_count": 6,
      "metadata": {
        "colab": {
          "base_uri": "https://localhost:8080/",
          "height": 206
        },
        "id": "CFRaQc5CO6ci",
        "outputId": "7235fabe-29f9-4a29-93ec-2dfd1638dca6"
      },
      "outputs": [
        {
          "data": {
            "text/html": [
              "<div>\n",
              "<style scoped>\n",
              "    .dataframe tbody tr th:only-of-type {\n",
              "        vertical-align: middle;\n",
              "    }\n",
              "\n",
              "    .dataframe tbody tr th {\n",
              "        vertical-align: top;\n",
              "    }\n",
              "\n",
              "    .dataframe thead th {\n",
              "        text-align: right;\n",
              "    }\n",
              "</style>\n",
              "<table border=\"1\" class=\"dataframe\">\n",
              "  <thead>\n",
              "    <tr style=\"text-align: right;\">\n",
              "      <th></th>\n",
              "      <th>date</th>\n",
              "      <th>user</th>\n",
              "      <th>text</th>\n",
              "      <th>likes</th>\n",
              "      <th>retweets</th>\n",
              "    </tr>\n",
              "  </thead>\n",
              "  <tbody>\n",
              "    <tr>\n",
              "      <th>0</th>\n",
              "      <td>2021-12-09 11:24:48+00:00</td>\n",
              "      <td>K8SRGL</td>\n",
              "      <td>RT @Fox0x01: When you spend a shit-load of mon...</td>\n",
              "      <td>0</td>\n",
              "      <td>2</td>\n",
              "    </tr>\n",
              "    <tr>\n",
              "      <th>1</th>\n",
              "      <td>2021-12-09 11:24:48+00:00</td>\n",
              "      <td>Rand0mGuest2</td>\n",
              "      <td>RT @Rand0mGuest2: Expect this marketplace to g...</td>\n",
              "      <td>0</td>\n",
              "      <td>1</td>\n",
              "    </tr>\n",
              "    <tr>\n",
              "      <th>2</th>\n",
              "      <td>2021-12-09 11:24:45+00:00</td>\n",
              "      <td>redribbonlips</td>\n",
              "      <td>RT @dimistrescu: You want me to talk dirty? Th...</td>\n",
              "      <td>0</td>\n",
              "      <td>126</td>\n",
              "    </tr>\n",
              "    <tr>\n",
              "      <th>3</th>\n",
              "      <td>2021-12-09 11:24:45+00:00</td>\n",
              "      <td>hazze_ebooks</td>\n",
              "      <td>you can just feel the depression</td>\n",
              "      <td>0</td>\n",
              "      <td>0</td>\n",
              "    </tr>\n",
              "    <tr>\n",
              "      <th>4</th>\n",
              "      <td>2021-12-09 11:24:42+00:00</td>\n",
              "      <td>jules369369369</td>\n",
              "      <td>RT @PamLongCO: Public health has a big campaig...</td>\n",
              "      <td>0</td>\n",
              "      <td>670</td>\n",
              "    </tr>\n",
              "  </tbody>\n",
              "</table>\n",
              "</div>"
            ],
            "text/plain": [
              "                        date            user  \\\n",
              "0  2021-12-09 11:24:48+00:00          K8SRGL   \n",
              "1  2021-12-09 11:24:48+00:00    Rand0mGuest2   \n",
              "2  2021-12-09 11:24:45+00:00   redribbonlips   \n",
              "3  2021-12-09 11:24:45+00:00    hazze_ebooks   \n",
              "4  2021-12-09 11:24:42+00:00  jules369369369   \n",
              "\n",
              "                                                text  likes  retweets  \n",
              "0  RT @Fox0x01: When you spend a shit-load of mon...      0         2  \n",
              "1  RT @Rand0mGuest2: Expect this marketplace to g...      0         1  \n",
              "2  RT @dimistrescu: You want me to talk dirty? Th...      0       126  \n",
              "3                   you can just feel the depression      0         0  \n",
              "4  RT @PamLongCO: Public health has a big campaig...      0       670  "
            ]
          },
          "execution_count": 6,
          "metadata": {},
          "output_type": "execute_result"
        }
      ],
      "source": [
        "tweets_df.columns=['date','user','likes','retweets','text']\n",
        "\n",
        "rearranged_col_names=['date','user','text','likes','retweets']\n",
        "tweets_df=tweets_df[rearranged_col_names]\n",
        "tweets_df.head()"
      ]
    },
    {
      "cell_type": "code",
      "execution_count": 7,
      "metadata": {
        "colab": {
          "base_uri": "https://localhost:8080/",
          "height": 206
        },
        "id": "ETMhh1d2QUJy",
        "outputId": "1b707e02-1c98-480e-f466-090f4bdd1952"
      },
      "outputs": [
        {
          "data": {
            "text/html": [
              "<div>\n",
              "<style scoped>\n",
              "    .dataframe tbody tr th:only-of-type {\n",
              "        vertical-align: middle;\n",
              "    }\n",
              "\n",
              "    .dataframe tbody tr th {\n",
              "        vertical-align: top;\n",
              "    }\n",
              "\n",
              "    .dataframe thead th {\n",
              "        text-align: right;\n",
              "    }\n",
              "</style>\n",
              "<table border=\"1\" class=\"dataframe\">\n",
              "  <thead>\n",
              "    <tr style=\"text-align: right;\">\n",
              "      <th></th>\n",
              "      <th>date</th>\n",
              "      <th>user</th>\n",
              "      <th>text</th>\n",
              "      <th>likes</th>\n",
              "      <th>retweets</th>\n",
              "    </tr>\n",
              "  </thead>\n",
              "  <tbody>\n",
              "    <tr>\n",
              "      <th>0</th>\n",
              "      <td>2021-12-09 10:39:15+00:00</td>\n",
              "      <td>__Mardi</td>\n",
              "      <td>RT @NomaRantsho: As soon as money leaves my ba...</td>\n",
              "      <td>0</td>\n",
              "      <td>1417</td>\n",
              "    </tr>\n",
              "    <tr>\n",
              "      <th>1</th>\n",
              "      <td>2021-12-09 10:39:15+00:00</td>\n",
              "      <td>UnwantedLife_Me</td>\n",
              "      <td>@ofaglasgowgirl @LovingBlogs @creatorzRT @Life...</td>\n",
              "      <td>0</td>\n",
              "      <td>1</td>\n",
              "    </tr>\n",
              "    <tr>\n",
              "      <th>2</th>\n",
              "      <td>2021-12-09 10:39:15+00:00</td>\n",
              "      <td>FemmeAppeal</td>\n",
              "      <td>Even finally finding the right therapist, and ...</td>\n",
              "      <td>0</td>\n",
              "      <td>0</td>\n",
              "    </tr>\n",
              "    <tr>\n",
              "      <th>3</th>\n",
              "      <td>2021-12-09 10:39:21+00:00</td>\n",
              "      <td>UnwantedLife_Me</td>\n",
              "      <td>@BloggersTribe @ofaglasgowgirl @JLCreate All c...</td>\n",
              "      <td>0</td>\n",
              "      <td>0</td>\n",
              "    </tr>\n",
              "    <tr>\n",
              "      <th>4</th>\n",
              "      <td>2021-12-09 10:39:25+00:00</td>\n",
              "      <td>UnwantedLife_Me</td>\n",
              "      <td>@theclique_uk All comments returned\\n\\nFestive...</td>\n",
              "      <td>0</td>\n",
              "      <td>0</td>\n",
              "    </tr>\n",
              "  </tbody>\n",
              "</table>\n",
              "</div>"
            ],
            "text/plain": [
              "                       date             user  \\\n",
              "0 2021-12-09 10:39:15+00:00          __Mardi   \n",
              "1 2021-12-09 10:39:15+00:00  UnwantedLife_Me   \n",
              "2 2021-12-09 10:39:15+00:00      FemmeAppeal   \n",
              "3 2021-12-09 10:39:21+00:00  UnwantedLife_Me   \n",
              "4 2021-12-09 10:39:25+00:00  UnwantedLife_Me   \n",
              "\n",
              "                                                text  likes  retweets  \n",
              "0  RT @NomaRantsho: As soon as money leaves my ba...      0      1417  \n",
              "1  @ofaglasgowgirl @LovingBlogs @creatorzRT @Life...      0         1  \n",
              "2  Even finally finding the right therapist, and ...      0         0  \n",
              "3  @BloggersTribe @ofaglasgowgirl @JLCreate All c...      0         0  \n",
              "4  @theclique_uk All comments returned\\n\\nFestive...      0         0  "
            ]
          },
          "execution_count": 7,
          "metadata": {},
          "output_type": "execute_result"
        }
      ],
      "source": [
        "# Sort dataframe by date column\n",
        "tweets_df['date'] = pd.to_datetime(tweets_df['date'])\n",
        "tweets_df = tweets_df.sort_values(by='date',ascending=True)\n",
        "tweets_df = tweets_df.reset_index().drop('index',axis=1)\n",
        "tweets_df.head()"
      ]
    },
    {
      "cell_type": "code",
      "execution_count": 8,
      "metadata": {
        "colab": {
          "base_uri": "https://localhost:8080/"
        },
        "id": "Ry3FgiV0R1Ez",
        "outputId": "401ebe04-48be-4c75-8a8e-d93548d70710"
      },
      "outputs": [
        {
          "name": "stdout",
          "output_type": "stream",
          "text": [
            "(1000, 5)\n"
          ]
        },
        {
          "data": {
            "text/plain": [
              "(637, 5)"
            ]
          },
          "execution_count": 8,
          "metadata": {},
          "output_type": "execute_result"
        }
      ],
      "source": [
        "print(tweets_df.shape)\n",
        "tweets_df = tweets_df.drop_duplicates('text')\n",
        "tweets_df.shape"
      ]
    },
    {
      "cell_type": "code",
      "execution_count": 9,
      "metadata": {
        "colab": {
          "base_uri": "https://localhost:8080/"
        },
        "id": "GIIhX1NzR8zN",
        "outputId": "48ad7574-6e5a-4689-a900-73ff56e52e7c"
      },
      "outputs": [
        {
          "name": "stdout",
          "output_type": "stream",
          "text": [
            "\n",
            "The tweet with more likes is: \n",
            "When the mother is depressed bcoz of a boyfriend, the kids get affected. Sometimes the relationship females struggl… https://t.co/F6iil6L1Kf\n",
            "Number of likes: 35\n",
            "\n",
            "The tweet with more retweets is: \n",
            "RT @ericawilsonx: “omg depression can get so bad people can’t brush their teeth??? ewww” \n",
            "\n",
            "people’s depression gets so bad they kill themse…\n",
            "Number of retweets: 11922\n"
          ]
        }
      ],
      "source": [
        "#extract the tweet with more FAVs and more RTs:\n",
        "\n",
        "fav_max = np.max(tweets_df['likes'])\n",
        "rt_max = np.max(tweets_df['retweets'])\n",
        "\n",
        "fav = tweets_df[tweets_df.likes == fav_max].index[0]\n",
        "rt = tweets_df[tweets_df.retweets == rt_max].index[0]\n",
        "\n",
        "# Max FAVs:\n",
        "print(\"\\nThe tweet with more likes is: \\n{}\".format(tweets_df['text'][fav]))\n",
        "print(\"Number of likes: {}\".format(fav_max))\n",
        "#print(\"{} characters.\\n\".format(data['len'][fav]))\n",
        "\n",
        "# Max RTs:\n",
        "print(\"\\nThe tweet with more retweets is: \\n{}\".format(tweets_df['text'][rt]))\n",
        "print(\"Number of retweets: {}\".format(rt_max))\n",
        "#print(\"{} characters.\\n\".format(data['len'][rt]))"
      ]
    },
    {
      "cell_type": "code",
      "execution_count": 10,
      "metadata": {
        "colab": {
          "base_uri": "https://localhost:8080/",
          "height": 322
        },
        "id": "IrKv9rr2SBM6",
        "outputId": "2751c770-8397-47c4-8e7c-b8c316de2897"
      },
      "outputs": [
        {
          "data": {
            "text/plain": [
              "<AxesSubplot:xlabel='date'>"
            ]
          },
          "execution_count": 10,
          "metadata": {},
          "output_type": "execute_result"
        },
        {
          "data": {
            "image/png": "[encoded data removed]",
            "text/plain": [
              "<Figure size 2304x576 with 1 Axes>"
            ]
          },
          "metadata": {
            "needs_background": "light"
          },
          "output_type": "display_data"
        }
      ],
      "source": [
        "# Create time series for the data:\n",
        "\n",
        "#tlen = pd.Series(data=data['len'].values, index=data['Date'])\n",
        "tfav = pd.Series(data=tweets_df['likes'].values, index=tweets_df['date'])\n",
        "tret = pd.Series(data=tweets_df['retweets'].values, index=tweets_df['date'])\n",
        "\n",
        "# Likes vs retweets visualization:\n",
        "tfav.plot(figsize=(32,8), label=\"Likes\", legend=True)\n",
        "tret.plot(figsize=(32,8), label=\"Retweets\", legend=True)"
      ]
    },
    {
      "cell_type": "code",
      "execution_count": 11,
      "metadata": {
        "id": "xWnrOSV1Sc8X"
      },
      "outputs": [],
      "source": [
        "#function to extract hashtags from every tweet\n",
        "def hashtag_extract(tweets):\n",
        "    hashtags = []\n",
        "    # Loop over the words in the tweet\n",
        "    for tweet in tweets:\n",
        "        ht = re.findall(r\"#(\\w+)\", tweet)\n",
        "        hashtags.append(ht)\n",
        "\n",
        "    return hashtags"
      ]
    },
    {
      "cell_type": "code",
      "execution_count": 12,
      "metadata": {
        "colab": {
          "base_uri": "https://localhost:8080/"
        },
        "id": "CwVQRs0QSioS",
        "outputId": "be81c966-a03c-459c-a937-7e2e941ab222"
      },
      "outputs": [
        {
          "name": "stderr",
          "output_type": "stream",
          "text": [
            "[nltk_data] Downloading package stopwords to\n",
            "[nltk_data]     /home/codevardhan/nltk_data...\n",
            "[nltk_data]   Package stopwords is already up-to-date!\n"
          ]
        },
        {
          "data": {
            "text/plain": [
              "True"
            ]
          },
          "execution_count": 12,
          "metadata": {},
          "output_type": "execute_result"
        }
      ],
      "source": [
        "import nltk\n",
        "nltk.download('stopwords')"
      ]
    },
    {
      "cell_type": "code",
      "execution_count": 13,
      "metadata": {
        "id": "c-qPr_g3SkQO"
      },
      "outputs": [],
      "source": [
        "HT_regular = hashtag_extract(tweets_df['text'])\n",
        "\n",
        "# unnesting list\n",
        "HT_unnested = sum(HT_regular,[])"
      ]
    },
    {
      "cell_type": "code",
      "execution_count": 14,
      "metadata": {
        "colab": {
          "base_uri": "https://localhost:8080/",
          "height": 897
        },
        "id": "3wdwBtgeStnb",
        "outputId": "80472510-543b-49e0-a7dd-d9804b871bb4"
      },
      "outputs": [
        {
          "data": {
            "image/png": "[encoded data removed]",
            "text/plain": [
              "<Figure size 2592x1080 with 1 Axes>"
            ]
          },
          "metadata": {
            "needs_background": "light"
          },
          "output_type": "display_data"
        }
      ],
      "source": [
        "a = nltk.FreqDist(HT_unnested)\n",
        "d = pd.DataFrame({'Hashtag': list(a.keys()),\n",
        "                  'Count': list(a.values())})\n",
        "# selecting top 10 most frequent hashtags     \n",
        "d = d.nlargest(columns=\"Count\", n = 10) \n",
        "plt.figure(figsize=(36,15))\n",
        "ax = sns.barplot(data=d, x= \"Hashtag\", y = \"Count\")\n",
        "ax.set(ylabel = 'Count')\n",
        "plt.show()"
      ]
    },
    {
      "cell_type": "code",
      "execution_count": 15,
      "metadata": {
        "colab": {
          "base_uri": "https://localhost:8080/"
        },
        "id": "0sHvYn4OSmRc",
        "outputId": "a5b21d34-e05c-4328-9372-c9d420aa54cd"
      },
      "outputs": [
        {
          "data": {
            "text/plain": [
              "-0.028407916715274102"
            ]
          },
          "execution_count": 15,
          "metadata": {},
          "output_type": "execute_result"
        }
      ],
      "source": [
        "tweets_df['likes'].corr(tweets_df['retweets'])"
      ]
    },
    {
      "cell_type": "code",
      "execution_count": 16,
      "metadata": {
        "colab": {
          "base_uri": "https://localhost:8080/",
          "height": 296
        },
        "id": "xDNq75J8TT1V",
        "outputId": "480b1bc7-569f-4b85-e964-825142358bee"
      },
      "outputs": [
        {
          "data": {
            "text/plain": [
              "<AxesSubplot:xlabel='likes', ylabel='retweets'>"
            ]
          },
          "execution_count": 16,
          "metadata": {},
          "output_type": "execute_result"
        },
        {
          "data": {
            "image/png": "[encoded data removed]",
            "text/plain": [
              "<Figure size 432x288 with 1 Axes>"
            ]
          },
          "metadata": {
            "needs_background": "light"
          },
          "output_type": "display_data"
        }
      ],
      "source": [
        "tweets_df.plot.scatter(x='likes',y='retweets',c='r')"
      ]
    },
    {
      "cell_type": "code",
      "execution_count": 17,
      "metadata": {
        "colab": {
          "base_uri": "https://localhost:8080/",
          "height": 293
        },
        "id": "yPgsE_AiTQBC",
        "outputId": "c01dbbf8-e350-4b0a-faa0-fc44e859380a"
      },
      "outputs": [
        {
          "data": {
            "text/html": [
              "<div>\n",
              "<style scoped>\n",
              "    .dataframe tbody tr th:only-of-type {\n",
              "        vertical-align: middle;\n",
              "    }\n",
              "\n",
              "    .dataframe tbody tr th {\n",
              "        vertical-align: top;\n",
              "    }\n",
              "\n",
              "    .dataframe thead th {\n",
              "        text-align: right;\n",
              "    }\n",
              "</style>\n",
              "<table border=\"1\" class=\"dataframe\">\n",
              "  <thead>\n",
              "    <tr style=\"text-align: right;\">\n",
              "      <th></th>\n",
              "      <th>date</th>\n",
              "      <th>user</th>\n",
              "      <th>text</th>\n",
              "      <th>likes</th>\n",
              "      <th>retweets</th>\n",
              "      <th>clean_text</th>\n",
              "    </tr>\n",
              "  </thead>\n",
              "  <tbody>\n",
              "    <tr>\n",
              "      <th>0</th>\n",
              "      <td>2021-12-09 10:39:15+00:00</td>\n",
              "      <td>__Mardi</td>\n",
              "      <td>RT @NomaRantsho: As soon as money leaves my ba...</td>\n",
              "      <td>0</td>\n",
              "      <td>1417</td>\n",
              "      <td>soon money leaves bank account depression ente...</td>\n",
              "    </tr>\n",
              "    <tr>\n",
              "      <th>1</th>\n",
              "      <td>2021-12-09 10:39:15+00:00</td>\n",
              "      <td>UnwantedLife_Me</td>\n",
              "      <td>@ofaglasgowgirl @LovingBlogs @creatorzRT @Life...</td>\n",
              "      <td>0</td>\n",
              "      <td>1</td>\n",
              "      <td>all comments returned festive depression when ...</td>\n",
              "    </tr>\n",
              "    <tr>\n",
              "      <th>2</th>\n",
              "      <td>2021-12-09 10:39:15+00:00</td>\n",
              "      <td>FemmeAppeal</td>\n",
              "      <td>Even finally finding the right therapist, and ...</td>\n",
              "      <td>0</td>\n",
              "      <td>0</td>\n",
              "      <td>even finally finding the right therapist and r...</td>\n",
              "    </tr>\n",
              "    <tr>\n",
              "      <th>3</th>\n",
              "      <td>2021-12-09 10:39:21+00:00</td>\n",
              "      <td>UnwantedLife_Me</td>\n",
              "      <td>@BloggersTribe @ofaglasgowgirl @JLCreate All c...</td>\n",
              "      <td>0</td>\n",
              "      <td>0</td>\n",
              "      <td>all comments returned festive depression when ...</td>\n",
              "    </tr>\n",
              "    <tr>\n",
              "      <th>4</th>\n",
              "      <td>2021-12-09 10:39:25+00:00</td>\n",
              "      <td>UnwantedLife_Me</td>\n",
              "      <td>@theclique_uk All comments returned\\n\\nFestive...</td>\n",
              "      <td>0</td>\n",
              "      <td>0</td>\n",
              "      <td>all comments returned festive depression when ...</td>\n",
              "    </tr>\n",
              "  </tbody>\n",
              "</table>\n",
              "</div>"
            ],
            "text/plain": [
              "                       date             user  \\\n",
              "0 2021-12-09 10:39:15+00:00          __Mardi   \n",
              "1 2021-12-09 10:39:15+00:00  UnwantedLife_Me   \n",
              "2 2021-12-09 10:39:15+00:00      FemmeAppeal   \n",
              "3 2021-12-09 10:39:21+00:00  UnwantedLife_Me   \n",
              "4 2021-12-09 10:39:25+00:00  UnwantedLife_Me   \n",
              "\n",
              "                                                text  likes  retweets  \\\n",
              "0  RT @NomaRantsho: As soon as money leaves my ba...      0      1417   \n",
              "1  @ofaglasgowgirl @LovingBlogs @creatorzRT @Life...      0         1   \n",
              "2  Even finally finding the right therapist, and ...      0         0   \n",
              "3  @BloggersTribe @ofaglasgowgirl @JLCreate All c...      0         0   \n",
              "4  @theclique_uk All comments returned\\n\\nFestive...      0         0   \n",
              "\n",
              "                                          clean_text  \n",
              "0  soon money leaves bank account depression ente...  \n",
              "1  all comments returned festive depression when ...  \n",
              "2  even finally finding the right therapist and r...  \n",
              "3  all comments returned festive depression when ...  \n",
              "4  all comments returned festive depression when ...  "
            ]
          },
          "execution_count": 17,
          "metadata": {},
          "output_type": "execute_result"
        }
      ],
      "source": [
        "# helper function to clean tweets\n",
        "def processTweet(tweet):\n",
        "    # Remove HTML special entities (e.g. &amp;)\n",
        "    tweet = re.sub(r'\\&\\w*;', '', tweet)\n",
        "    #Convert @username to AT_USER\n",
        "    tweet = re.sub('@[^\\s]+','',tweet)\n",
        "    # Remove tickers\n",
        "    tweet = re.sub(r'\\$\\w*', '', tweet)\n",
        "    # To lowercase\n",
        "    tweet = tweet.lower()\n",
        "    # Remove hyperlinks\n",
        "    tweet = re.sub(r'https?:\\/\\/.*\\/\\w*', '', tweet)\n",
        "    # Remove hashtags\n",
        "    tweet = re.sub(r'#\\w*', '', tweet)\n",
        "    # Remove Punctuation and split 's, 't, 've with a space for filter\n",
        "    tweet = re.sub(r'[' + string.punctuation.replace('@', '') + ']+', '', tweet)\n",
        "    # Remove words with 2 or fewer letters\n",
        "    tweet = re.sub(r'\\b\\w{1,2}\\b', '', tweet)\n",
        "    # Remove whitespace (including new line characters)\n",
        "    tweet = re.sub(r'\\s\\s+', ' ', tweet)\n",
        "    # Remove single space remaining at the front of the tweet.\n",
        "    tweet = tweet.lstrip(' ') \n",
        "    # Remove characters beyond Basic Multilingual Plane (BMP) of Unicode:\n",
        "    tweet = ''.join(c for c in tweet if c <= '\\uffff') \n",
        "    return tweet\n",
        "#\n",
        "#df1 = df.loc['0':'5', 'text': ]\n",
        "tweets_df['clean_text'] = tweets_df['text'].apply(processTweet)\n",
        "tweets_df.head()\n"
      ]
    },
    {
      "cell_type": "code",
      "execution_count": 18,
      "metadata": {
        "colab": {
          "base_uri": "https://localhost:8080/"
        },
        "id": "1syTD_1UTsnN",
        "outputId": "4f88c9ec-cdaf-423d-b38c-91cc717f19b9"
      },
      "outputs": [
        {
          "data": {
            "text/plain": [
              "(612, 6)"
            ]
          },
          "execution_count": 18,
          "metadata": {},
          "output_type": "execute_result"
        }
      ],
      "source": [
        "# drop duplicates\n",
        "tweets_df = tweets_df.drop_duplicates('clean_text')\n",
        "tweets_df.shape"
      ]
    },
    {
      "cell_type": "code",
      "execution_count": 19,
      "metadata": {
        "colab": {
          "base_uri": "https://localhost:8080/",
          "height": 417
        },
        "id": "lPKq9L_0TVq4",
        "outputId": "cbe19ae7-349f-40a7-e366-7db64a87c135"
      },
      "outputs": [
        {
          "name": "stderr",
          "output_type": "stream",
          "text": [
            "/tmp/ipykernel_32850/4271762893.py:11: SettingWithCopyWarning: \n",
            "A value is trying to be set on a copy of a slice from a DataFrame.\n",
            "Try using .loc[row_indexer,col_indexer] = value instead\n",
            "\n",
            "See the caveats in the documentation: https://pandas.pydata.org/pandas-docs/stable/user_guide/indexing.html#returning-a-view-versus-a-copy\n",
            "  tweets_df['category'] = tweets_df['clean_text'].apply(analyze_sentiment)\n"
          ]
        },
        {
          "data": {
            "text/html": [
              "<div>\n",
              "<style scoped>\n",
              "    .dataframe tbody tr th:only-of-type {\n",
              "        vertical-align: middle;\n",
              "    }\n",
              "\n",
              "    .dataframe tbody tr th {\n",
              "        vertical-align: top;\n",
              "    }\n",
              "\n",
              "    .dataframe thead th {\n",
              "        text-align: right;\n",
              "    }\n",
              "</style>\n",
              "<table border=\"1\" class=\"dataframe\">\n",
              "  <thead>\n",
              "    <tr style=\"text-align: right;\">\n",
              "      <th></th>\n",
              "      <th>date</th>\n",
              "      <th>user</th>\n",
              "      <th>text</th>\n",
              "      <th>likes</th>\n",
              "      <th>retweets</th>\n",
              "      <th>clean_text</th>\n",
              "      <th>category</th>\n",
              "    </tr>\n",
              "  </thead>\n",
              "  <tbody>\n",
              "    <tr>\n",
              "      <th>0</th>\n",
              "      <td>2021-12-09 10:39:15+00:00</td>\n",
              "      <td>__Mardi</td>\n",
              "      <td>RT @NomaRantsho: As soon as money leaves my ba...</td>\n",
              "      <td>0</td>\n",
              "      <td>1417</td>\n",
              "      <td>soon money leaves bank account depression ente...</td>\n",
              "      <td>0</td>\n",
              "    </tr>\n",
              "    <tr>\n",
              "      <th>1</th>\n",
              "      <td>2021-12-09 10:39:15+00:00</td>\n",
              "      <td>UnwantedLife_Me</td>\n",
              "      <td>@ofaglasgowgirl @LovingBlogs @creatorzRT @Life...</td>\n",
              "      <td>0</td>\n",
              "      <td>1</td>\n",
              "      <td>all comments returned festive depression when ...</td>\n",
              "      <td>0</td>\n",
              "    </tr>\n",
              "    <tr>\n",
              "      <th>2</th>\n",
              "      <td>2021-12-09 10:39:15+00:00</td>\n",
              "      <td>FemmeAppeal</td>\n",
              "      <td>Even finally finding the right therapist, and ...</td>\n",
              "      <td>0</td>\n",
              "      <td>0</td>\n",
              "      <td>even finally finding the right therapist and r...</td>\n",
              "      <td>1</td>\n",
              "    </tr>\n",
              "    <tr>\n",
              "      <th>3</th>\n",
              "      <td>2021-12-09 10:39:21+00:00</td>\n",
              "      <td>UnwantedLife_Me</td>\n",
              "      <td>@BloggersTribe @ofaglasgowgirl @JLCreate All c...</td>\n",
              "      <td>0</td>\n",
              "      <td>0</td>\n",
              "      <td>all comments returned festive depression when ...</td>\n",
              "      <td>1</td>\n",
              "    </tr>\n",
              "    <tr>\n",
              "      <th>4</th>\n",
              "      <td>2021-12-09 10:39:25+00:00</td>\n",
              "      <td>UnwantedLife_Me</td>\n",
              "      <td>@theclique_uk All comments returned\\n\\nFestive...</td>\n",
              "      <td>0</td>\n",
              "      <td>0</td>\n",
              "      <td>all comments returned festive depression when ...</td>\n",
              "      <td>1</td>\n",
              "    </tr>\n",
              "  </tbody>\n",
              "</table>\n",
              "</div>"
            ],
            "text/plain": [
              "                       date             user  \\\n",
              "0 2021-12-09 10:39:15+00:00          __Mardi   \n",
              "1 2021-12-09 10:39:15+00:00  UnwantedLife_Me   \n",
              "2 2021-12-09 10:39:15+00:00      FemmeAppeal   \n",
              "3 2021-12-09 10:39:21+00:00  UnwantedLife_Me   \n",
              "4 2021-12-09 10:39:25+00:00  UnwantedLife_Me   \n",
              "\n",
              "                                                text  likes  retweets  \\\n",
              "0  RT @NomaRantsho: As soon as money leaves my ba...      0      1417   \n",
              "1  @ofaglasgowgirl @LovingBlogs @creatorzRT @Life...      0         1   \n",
              "2  Even finally finding the right therapist, and ...      0         0   \n",
              "3  @BloggersTribe @ofaglasgowgirl @JLCreate All c...      0         0   \n",
              "4  @theclique_uk All comments returned\\n\\nFestive...      0         0   \n",
              "\n",
              "                                          clean_text  category  \n",
              "0  soon money leaves bank account depression ente...         0  \n",
              "1  all comments returned festive depression when ...         0  \n",
              "2  even finally finding the right therapist and r...         1  \n",
              "3  all comments returned festive depression when ...         1  \n",
              "4  all comments returned festive depression when ...         1  "
            ]
          },
          "execution_count": 19,
          "metadata": {},
          "output_type": "execute_result"
        }
      ],
      "source": [
        "def analyze_sentiment(tweet):\n",
        "    analysis = TextBlob(tweet)\n",
        "    \n",
        "    if analysis.sentiment.polarity > 0:\n",
        "        return 1\n",
        "    elif analysis.sentiment.polarity == 0:\n",
        "        return 0\n",
        "    else:\n",
        "        return -1\n",
        "\n",
        "tweets_df['category'] = tweets_df['clean_text'].apply(analyze_sentiment)\n",
        "tweets_df.head()"
      ]
    },
    {
      "cell_type": "code",
      "execution_count": 20,
      "metadata": {
        "colab": {
          "base_uri": "https://localhost:8080/"
        },
        "id": "5-IFjWswURcm",
        "outputId": "1c22304d-9b2a-499f-ae2c-26819035ca56"
      },
      "outputs": [
        {
          "name": "stdout",
          "output_type": "stream",
          "text": [
            "number of positve categorized text is:  199\n",
            "number of negative categorized text is: 128\n",
            "number of neutral categorized text is: 285\n",
            "total length of the data is:            612\n"
          ]
        }
      ],
      "source": [
        "# check the number of positive vs. negative tagged sentences\n",
        "positives = tweets_df['category'][tweets_df.category == 1]\n",
        "negatives = tweets_df['category'][tweets_df.category == -1]\n",
        "neutrals = tweets_df['category'][tweets_df.category == 0]\n",
        "\n",
        "\n",
        "print('number of positve categorized text is:  {}'.format(len(positives)))\n",
        "print('number of negative categorized text is: {}'.format(len(negatives)))\n",
        "print('number of neutral categorized text is: {}'.format(len(neutrals)))\n",
        "print('total length of the data is:            {}'.format(tweets_df.shape[0]))"
      ]
    },
    {
      "cell_type": "code",
      "execution_count": 21,
      "metadata": {
        "colab": {
          "base_uri": "https://localhost:8080/",
          "height": 248
        },
        "id": "XdyIx6qpUiP7",
        "outputId": "8499fee6-19d6-4ca7-92e2-81375f9e7d49"
      },
      "outputs": [
        {
          "data": {
            "image/png": "[encoded data removed]",
            "text/plain": [
              "<Figure size 432x288 with 1 Axes>"
            ]
          },
          "metadata": {},
          "output_type": "display_data"
        }
      ],
      "source": [
        "slices_len = [len(positives), len(negatives), len(neutrals)]\n",
        "category = ['positives', 'negatives', 'neutrals']\n",
        "colors = ['r', 'g', 'b']\n",
        "\n",
        "plt.pie(slices_len, labels=category, colors=colors, startangle=90, autopct='%.1f%%')\n",
        "plt.show()"
      ]
    },
    {
      "cell_type": "code",
      "execution_count": 22,
      "metadata": {
        "colab": {
          "base_uri": "https://localhost:8080/",
          "height": 380
        },
        "id": "6dhSLdGHUkC1",
        "outputId": "3d58ac75-29b1-4df0-9d1a-9a2cfe72a85b"
      },
      "outputs": [
        {
          "data": {
            "text/html": [
              "<div>\n",
              "<style scoped>\n",
              "    .dataframe tbody tr th:only-of-type {\n",
              "        vertical-align: middle;\n",
              "    }\n",
              "\n",
              "    .dataframe tbody tr th {\n",
              "        vertical-align: top;\n",
              "    }\n",
              "\n",
              "    .dataframe thead th {\n",
              "        text-align: right;\n",
              "    }\n",
              "</style>\n",
              "<table border=\"1\" class=\"dataframe\">\n",
              "  <thead>\n",
              "    <tr style=\"text-align: right;\">\n",
              "      <th></th>\n",
              "      <th>date</th>\n",
              "      <th>user</th>\n",
              "      <th>text</th>\n",
              "      <th>likes</th>\n",
              "      <th>retweets</th>\n",
              "      <th>clean_text</th>\n",
              "      <th>category</th>\n",
              "      <th>no_sad</th>\n",
              "    </tr>\n",
              "  </thead>\n",
              "  <tbody>\n",
              "    <tr>\n",
              "      <th>0</th>\n",
              "      <td>2021-12-09 10:39:15+00:00</td>\n",
              "      <td>__Mardi</td>\n",
              "      <td>RT @NomaRantsho: As soon as money leaves my ba...</td>\n",
              "      <td>0</td>\n",
              "      <td>1417</td>\n",
              "      <td>soon money leaves bank account depression ente...</td>\n",
              "      <td>0</td>\n",
              "      <td>[soon, money, leaves, bank, account, enters, b...</td>\n",
              "    </tr>\n",
              "    <tr>\n",
              "      <th>1</th>\n",
              "      <td>2021-12-09 10:39:15+00:00</td>\n",
              "      <td>UnwantedLife_Me</td>\n",
              "      <td>@ofaglasgowgirl @LovingBlogs @creatorzRT @Life...</td>\n",
              "      <td>0</td>\n",
              "      <td>1</td>\n",
              "      <td>all comments returned festive depression when ...</td>\n",
              "      <td>0</td>\n",
              "      <td>[comments, returned, festive, christmas…]</td>\n",
              "    </tr>\n",
              "    <tr>\n",
              "      <th>2</th>\n",
              "      <td>2021-12-09 10:39:15+00:00</td>\n",
              "      <td>FemmeAppeal</td>\n",
              "      <td>Even finally finding the right therapist, and ...</td>\n",
              "      <td>0</td>\n",
              "      <td>0</td>\n",
              "      <td>even finally finding the right therapist and r...</td>\n",
              "      <td>1</td>\n",
              "      <td>[even, finally, finding, right, therapist, rec...</td>\n",
              "    </tr>\n",
              "    <tr>\n",
              "      <th>3</th>\n",
              "      <td>2021-12-09 10:39:21+00:00</td>\n",
              "      <td>UnwantedLife_Me</td>\n",
              "      <td>@BloggersTribe @ofaglasgowgirl @JLCreate All c...</td>\n",
              "      <td>0</td>\n",
              "      <td>0</td>\n",
              "      <td>all comments returned festive depression when ...</td>\n",
              "      <td>1</td>\n",
              "      <td>[comments, returned, festive, christmas, joy, ...</td>\n",
              "    </tr>\n",
              "    <tr>\n",
              "      <th>4</th>\n",
              "      <td>2021-12-09 10:39:25+00:00</td>\n",
              "      <td>UnwantedLife_Me</td>\n",
              "      <td>@theclique_uk All comments returned\\n\\nFestive...</td>\n",
              "      <td>0</td>\n",
              "      <td>0</td>\n",
              "      <td>all comments returned festive depression when ...</td>\n",
              "      <td>1</td>\n",
              "      <td>[comments, returned, festive, christmas, joy, ...</td>\n",
              "    </tr>\n",
              "  </tbody>\n",
              "</table>\n",
              "</div>"
            ],
            "text/plain": [
              "                       date             user  \\\n",
              "0 2021-12-09 10:39:15+00:00          __Mardi   \n",
              "1 2021-12-09 10:39:15+00:00  UnwantedLife_Me   \n",
              "2 2021-12-09 10:39:15+00:00      FemmeAppeal   \n",
              "3 2021-12-09 10:39:21+00:00  UnwantedLife_Me   \n",
              "4 2021-12-09 10:39:25+00:00  UnwantedLife_Me   \n",
              "\n",
              "                                                text  likes  retweets  \\\n",
              "0  RT @NomaRantsho: As soon as money leaves my ba...      0      1417   \n",
              "1  @ofaglasgowgirl @LovingBlogs @creatorzRT @Life...      0         1   \n",
              "2  Even finally finding the right therapist, and ...      0         0   \n",
              "3  @BloggersTribe @ofaglasgowgirl @JLCreate All c...      0         0   \n",
              "4  @theclique_uk All comments returned\\n\\nFestive...      0         0   \n",
              "\n",
              "                                          clean_text  category  \\\n",
              "0  soon money leaves bank account depression ente...         0   \n",
              "1  all comments returned festive depression when ...         0   \n",
              "2  even finally finding the right therapist and r...         1   \n",
              "3  all comments returned festive depression when ...         1   \n",
              "4  all comments returned festive depression when ...         1   \n",
              "\n",
              "                                              no_sad  \n",
              "0  [soon, money, leaves, bank, account, enters, b...  \n",
              "1          [comments, returned, festive, christmas…]  \n",
              "2  [even, finally, finding, right, therapist, rec...  \n",
              "3  [comments, returned, festive, christmas, joy, ...  \n",
              "4  [comments, returned, festive, christmas, joy, ...  "
            ]
          },
          "execution_count": 22,
          "metadata": {},
          "output_type": "execute_result"
        }
      ],
      "source": [
        "# tokenize helper function\n",
        "import string\n",
        "from nltk.corpus import stopwords\n",
        "\n",
        "def text_process(raw_text):\n",
        "    \"\"\"\n",
        "    Takes in a string of text, then performs the following:\n",
        "    1. Remove all punctuation\n",
        "    2. Remove all stopwords\n",
        "    3. Returns a list of the cleaned text\n",
        "    \"\"\"\n",
        "    # Check characters to see if they are in punctuation\n",
        "    nopunc = [char for char in list(raw_text) if char not in string.punctuation]\n",
        "\n",
        "    # Join the characters again to form the string.\n",
        "    nopunc = ''.join(nopunc)\n",
        "    \n",
        "    # Now just remove any stopwords\n",
        "    return [word for word in nopunc.lower().split() if word.lower() not in stopwords.words('english')]\n",
        "\n",
        "def remove_words(word_list):\n",
        "    remove = ['depression','suicide','kill','depressed','hated','cry','…','death’']\n",
        "    return [w for w in word_list if w not in remove]\n",
        "# -------------------------------------------\n",
        "# tokenize message column and create a column for tokens\n",
        "tweets_df = tweets_df.copy()\n",
        "tweets_df['tokens'] = tweets_df['clean_text'].apply(text_process) # tokenize style 1\n",
        "tweets_df['no_sad'] = tweets_df['tokens'].apply(remove_words) #tokenize style 2\n",
        "tweets_df = tweets_df.drop(['tokens'],axis=1)\n",
        "tweets_df.head()"
      ]
    },
    {
      "cell_type": "code",
      "execution_count": 23,
      "metadata": {},
      "outputs": [],
      "source": [
        "TEXT_CLEANING_RE = \"@\\S+|https?:\\S+|http?:\\S|[^A-Za-z0-9]+\"\n",
        "stop_words = stopwords.words(\"english\")\n",
        "\n",
        "def preprocess(text, stem=False):\n",
        "    # Remove link,user and special characters\n",
        "    text = re.sub(TEXT_CLEANING_RE, ' ', str(text).lower()).strip()\n",
        "    if text==\"\":\n",
        "        return \"none\"\n",
        "    tokens = []\n",
        "    for token in text.split():\n",
        "        if token not in stop_words:\n",
        "            if stem:\n",
        "                tokens.append(stemmer.stem(token))\n",
        "            else:\n",
        "                tokens.append(token)\n",
        "    return \" \".join(tokens)"
      ]
    },
    {
      "cell_type": "code",
      "execution_count": 24,
      "metadata": {},
      "outputs": [],
      "source": [
        "tweets_df.clean_text = tweets_df.clean_text.apply(lambda x: preprocess(x))"
      ]
    },
    {
      "cell_type": "code",
      "execution_count": 25,
      "metadata": {},
      "outputs": [
        {
          "data": {
            "text/html": [
              "<div>\n",
              "<style scoped>\n",
              "    .dataframe tbody tr th:only-of-type {\n",
              "        vertical-align: middle;\n",
              "    }\n",
              "\n",
              "    .dataframe tbody tr th {\n",
              "        vertical-align: top;\n",
              "    }\n",
              "\n",
              "    .dataframe thead th {\n",
              "        text-align: right;\n",
              "    }\n",
              "</style>\n",
              "<table border=\"1\" class=\"dataframe\">\n",
              "  <thead>\n",
              "    <tr style=\"text-align: right;\">\n",
              "      <th></th>\n",
              "      <th>clean_text</th>\n",
              "      <th>category</th>\n",
              "    </tr>\n",
              "  </thead>\n",
              "  <tbody>\n",
              "    <tr>\n",
              "      <th>0</th>\n",
              "      <td>soon money leaves bank account depression ente...</td>\n",
              "      <td>0</td>\n",
              "    </tr>\n",
              "    <tr>\n",
              "      <th>1</th>\n",
              "      <td>comments returned festive depression christmas</td>\n",
              "      <td>0</td>\n",
              "    </tr>\n",
              "    <tr>\n",
              "      <th>2</th>\n",
              "      <td>even finally finding right therapist recoverin...</td>\n",
              "      <td>1</td>\n",
              "    </tr>\n",
              "    <tr>\n",
              "      <th>3</th>\n",
              "      <td>comments returned festive depression christmas...</td>\n",
              "      <td>1</td>\n",
              "    </tr>\n",
              "    <tr>\n",
              "      <th>4</th>\n",
              "      <td>comments returned festive depression christmas...</td>\n",
              "      <td>1</td>\n",
              "    </tr>\n",
              "  </tbody>\n",
              "</table>\n",
              "</div>"
            ],
            "text/plain": [
              "                                          clean_text  category\n",
              "0  soon money leaves bank account depression ente...         0\n",
              "1     comments returned festive depression christmas         0\n",
              "2  even finally finding right therapist recoverin...         1\n",
              "3  comments returned festive depression christmas...         1\n",
              "4  comments returned festive depression christmas...         1"
            ]
          },
          "execution_count": 25,
          "metadata": {},
          "output_type": "execute_result"
        }
      ],
      "source": [
        "tweets_df=tweets_df.drop([\"likes\", \"date\",\"user\",\"retweets\",\"text\",\"no_sad\"], axis = 1)\n",
        "tweets_df.to_csv(\"../data/tweets.csv\", index=False)\n",
        "tweets_df.drop(tweets_df[tweets_df['clean_text'] ==\"none\"].index, inplace = True)\n",
        "tweets_df.head()\n"
      ]
    },
    {
      "cell_type": "code",
      "execution_count": 26,
      "metadata": {},
      "outputs": [
        {
          "data": {
            "text/plain": [
              "array([ 0,  1, -1])"
            ]
          },
          "execution_count": 26,
          "metadata": {},
          "output_type": "execute_result"
        }
      ],
      "source": [
        "tweets_df[\"category\"].unique()"
      ]
    },
    {
      "cell_type": "code",
      "execution_count": null,
      "metadata": {},
      "outputs": [],
      "source": []
    }
  ],
  "metadata": {
    "colab": {
      "collapsed_sections": [],
      "name": "twitter.ipynb",
      "provenance": []
    },
    "kernelspec": {
      "display_name": "Python 3",
      "name": "python3"
    },
    "language_info": {
      "codemirror_mode": {
        "name": "ipython",
        "version": 3
      },
      "file_extension": ".py",
      "mimetype": "text/x-python",
      "name": "python",
      "nbconvert_exporter": "python",
      "pygments_lexer": "ipython3",
      "version": "3.9.5"
    }
  },
  "nbformat": 4,
  "nbformat_minor": 0
}
