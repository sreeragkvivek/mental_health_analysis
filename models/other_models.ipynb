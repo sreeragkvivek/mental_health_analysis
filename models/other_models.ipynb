{
  "cells": [
    {
      "cell_type": "code",
      "execution_count": null,
      "metadata": {
        "colab": {
          "base_uri": "https://localhost:8080/"
        },
        "id": "hVm1M9zAn7IK",
        "outputId": "90d8a4dc-8a74-4029-eed0-33fa7862f690"
      },
      "outputs": [
        {
          "name": "stdout",
          "output_type": "stream",
          "text": [
            "Drive already mounted at /content/drive; to attempt to forcibly remount, call drive.mount(\"/content/drive\", force_remount=True).\n"
          ]
        }
      ],
      "source": [
        "from google.colab import drive\n",
        "drive.mount('/content/drive')"
      ]
    },
    {
      "cell_type": "code",
      "execution_count": null,
      "metadata": {
        "colab": {
          "base_uri": "https://localhost:8080/"
        },
        "id": "jf8BxOCloS8e",
        "outputId": "66f8472b-acc1-4ab8-eaa5-9c4f5be5f752"
      },
      "outputs": [
        {
          "name": "stdout",
          "output_type": "stream",
          "text": [
            "Requirement already satisfied: pyspark in /usr/local/lib/python3.7/dist-packages (3.2.0)\n",
            "Requirement already satisfied: py4j==0.10.9.2 in /usr/local/lib/python3.7/dist-packages (from pyspark) (0.10.9.2)\n"
          ]
        }
      ],
      "source": [
        "!pip install pyspark\n",
        "\n",
        "from IPython import display\n",
        "import math\n",
        "import pandas as pd\n",
        "import numpy as np\n",
        "\n",
        "from pyspark.sql import SQLContext\n",
        "from pyspark import SparkContext\n",
        "\n",
        "from pyspark.sql.types import *"
      ]
    },
    {
      "cell_type": "code",
      "execution_count": null,
      "metadata": {
        "colab": {
          "base_uri": "https://localhost:8080/"
        },
        "id": "PBjhsC26oV5p",
        "outputId": "28998ff6-79d0-47f8-faa2-ccbd138efe95"
      },
      "outputs": [
        {
          "name": "stderr",
          "output_type": "stream",
          "text": [
            "/usr/local/lib/python3.7/dist-packages/pyspark/sql/context.py:79: FutureWarning: Deprecated in 3.0.0. Use SparkSession.builder.getOrCreate() instead.\n",
            "  FutureWarning\n"
          ]
        }
      ],
      "source": [
        "sc =SparkContext( )\n",
        "sqlContext = SQLContext(sc)"
      ]
    },
    {
      "cell_type": "code",
      "execution_count": null,
      "metadata": {
        "id": "ZmRzCyyhg91W"
      },
      "outputs": [],
      "source": [
        "customSchema = StructType([\n",
        "    StructField(\"clean_text\", StringType()), \n",
        "    StructField(\"category\", StringType())])"
      ]
    },
    {
      "cell_type": "code",
      "execution_count": null,
      "metadata": {
        "id": "viJ1j24aopPz"
      },
      "outputs": [],
      "source": [
        "filename1 = '/content/drive/MyDrive/BDMA/twitter.csv'\n",
        "filename2 = '/content/drive/MyDrive/BDMA/reddit.csv'"
      ]
    },
    {
      "cell_type": "code",
      "execution_count": null,
      "metadata": {
        "colab": {
          "base_uri": "https://localhost:8080/"
        },
        "id": "bUl_84mMo7CZ",
        "outputId": "fd5064f7-3d31-41b0-f294-a0036b80150a"
      },
      "outputs": [
        {
          "data": {
            "text/plain": [
              "612"
            ]
          },
          "execution_count": 16,
          "metadata": {},
          "output_type": "execute_result"
        }
      ],
      "source": [
        "df1 = sqlContext.read.format(\"csv\").option(\"header\", \"true\").schema(customSchema).load(filename1)\n",
        "df1.count()"
      ]
    },
    {
      "cell_type": "code",
      "execution_count": null,
      "metadata": {
        "colab": {
          "base_uri": "https://localhost:8080/"
        },
        "id": "1j1nsakjw8mf",
        "outputId": "4f08f92e-be36-4639-cf63-e0f44183ea13"
      },
      "outputs": [
        {
          "data": {
            "text/plain": [
              "989"
            ]
          },
          "execution_count": 15,
          "metadata": {},
          "output_type": "execute_result"
        }
      ],
      "source": [
        "df2 = sqlContext.read.format(\"csv\").option(\"header\", \"true\").schema(customSchema).load(filename2)\n",
        "df2.count()"
      ]
    },
    {
      "cell_type": "code",
      "execution_count": null,
      "metadata": {
        "colab": {
          "base_uri": "https://localhost:8080/"
        },
        "id": "zCAXkXuyxAHH",
        "outputId": "5bd632a8-882b-483d-abf6-c3143ec36664"
      },
      "outputs": [
        {
          "data": {
            "text/plain": [
              "1601"
            ]
          },
          "execution_count": 17,
          "metadata": {},
          "output_type": "execute_result"
        }
      ],
      "source": [
        "df = df1.union(df2)\n",
        "df.count() "
      ]
    },
    {
      "cell_type": "code",
      "execution_count": null,
      "metadata": {
        "colab": {
          "base_uri": "https://localhost:8080/"
        },
        "id": "32DgQZxZo-mt",
        "outputId": "0ac92268-e63f-4487-bdc5-15aebc29af25"
      },
      "outputs": [
        {
          "name": "stdout",
          "output_type": "stream",
          "text": [
            "+--------------------+--------+\n",
            "|          clean_text|category|\n",
            "+--------------------+--------+\n",
            "|soon money leaves...|       0|\n",
            "|comments returned...|       0|\n",
            "|even finally find...|       1|\n",
            "|comments returned...|       1|\n",
            "|comments returned...|       1|\n",
            "+--------------------+--------+\n",
            "only showing top 5 rows\n",
            "\n"
          ]
        }
      ],
      "source": [
        "data = df.na.drop(how='any')\n",
        "data.show(5)"
      ]
    },
    {
      "cell_type": "code",
      "execution_count": null,
      "metadata": {
        "colab": {
          "base_uri": "https://localhost:8080/"
        },
        "id": "1V14ufsTo_rC",
        "outputId": "17665812-fd14-4d7f-8f7d-0f6eba2f2614"
      },
      "outputs": [
        {
          "name": "stdout",
          "output_type": "stream",
          "text": [
            "root\n",
            " |-- clean_text: string (nullable = true)\n",
            " |-- category: string (nullable = true)\n",
            "\n"
          ]
        }
      ],
      "source": [
        "data.printSchema()"
      ]
    },
    {
      "cell_type": "markdown",
      "metadata": {
        "id": "AD2LGsYwpCnD"
      },
      "source": [
        "*Model Pipeline*"
      ]
    },
    {
      "cell_type": "code",
      "execution_count": null,
      "metadata": {
        "id": "qv3EJSHapCSA"
      },
      "outputs": [],
      "source": [
        "from pyspark.ml.feature import RegexTokenizer, StopWordsRemover, CountVectorizer\n",
        "from pyspark.ml.classification import LogisticRegression\n",
        "\n",
        "# regular expression tokenizer\n",
        "regexTokenizer = RegexTokenizer(inputCol=\"clean_text\", outputCol=\"words\", pattern=\"\\\\W\")\n",
        "\n",
        "# stop words\n",
        "add_stopwords = [\"http\",\"https\",\"amp\",\"rt\",\"t\",\"c\",\"the\"] \n",
        "\n",
        "stopwordsRemover = StopWordsRemover(inputCol=\"words\", outputCol=\"filtered\").setStopWords(add_stopwords)\n",
        "\n",
        "# bag of words count\n",
        "countVectors = CountVectorizer(inputCol=\"filtered\", outputCol=\"features\", vocabSize=20000, minDF=5)"
      ]
    },
    {
      "cell_type": "code",
      "execution_count": null,
      "metadata": {
        "colab": {
          "base_uri": "https://localhost:8080/"
        },
        "id": "F4VlwDjDpGud",
        "outputId": "7c6b0280-c1a1-4037-ec81-ec665f202fda"
      },
      "outputs": [
        {
          "name": "stdout",
          "output_type": "stream",
          "text": [
            "+--------------------+--------+--------------------+--------------------+--------------------+-----+\n",
            "|          clean_text|category|               words|            filtered|            features|label|\n",
            "+--------------------+--------+--------------------+--------------------+--------------------+-----+\n",
            "|                 ...|       0|[is, so, sad, for...|[is, so, sad, for...|(13391,[7,8,10,17...|  1.0|\n",
            "|                 ...|       0|[i, missed, the, ...|[i, missed, new, ...|(13391,[0,107,268...|  1.0|\n",
            "|              omg...|       1|[omg, its, alread...|[omg, its, alread...|(13391,[85,205,26...|  0.0|\n",
            "|          .. Omga...|       0|[omgaga, im, sooo...|[omgaga, im, sooo...|(13391,[0,4,16,20...|  1.0|\n",
            "|         i think ...|       0|[i, think, mi, bf...|[i, think, mi, bf...|(13391,[0,10,13,1...|  1.0|\n",
            "+--------------------+--------+--------------------+--------------------+--------------------+-----+\n",
            "only showing top 5 rows\n",
            "\n"
          ]
        }
      ],
      "source": [
        "from pyspark.ml import Pipeline\n",
        "from pyspark.ml.feature import OneHotEncoder, StringIndexer, VectorAssembler\n",
        "label_stringIdx = StringIndexer(inputCol = \"category\", outputCol = \"label\")\n",
        "\n",
        "pipeline = Pipeline(stages=[regexTokenizer, stopwordsRemover, countVectors, label_stringIdx])\n",
        "\n",
        "# Fit the pipeline to training documents.\n",
        "pipelineFit = pipeline.fit(data)\n",
        "dataset = pipelineFit.transform(data)\n",
        "dataset.show(5)"
      ]
    },
    {
      "cell_type": "markdown",
      "metadata": {
        "id": "un_2e1xXpIwr"
      },
      "source": [
        "*Partition Training & Test sets & Model Training and Evaluation*"
      ]
    },
    {
      "cell_type": "code",
      "execution_count": null,
      "metadata": {
        "colab": {
          "base_uri": "https://localhost:8080/"
        },
        "id": "FLfqhl_9pHnI",
        "outputId": "d2ea52c5-0d1d-4e02-8374-e7ee1da27790"
      },
      "outputs": [
        {
          "name": "stdout",
          "output_type": "stream",
          "text": [
            "Training Dataset Count: 70679\n",
            "Test Dataset Count: 30283\n"
          ]
        }
      ],
      "source": [
        "# set seed for reproducibility\n",
        "(trainingData, testData) = dataset.randomSplit([0.7, 0.3], seed = 100)\n",
        "print(\"Training Dataset Count: \" + str(trainingData.count()))\n",
        "print(\"Test Dataset Count: \" + str(testData.count()))"
      ]
    },
    {
      "cell_type": "code",
      "execution_count": null,
      "metadata": {
        "colab": {
          "base_uri": "https://localhost:8080/"
        },
        "id": "YH7mTMHHpOGf",
        "outputId": "8e7c89ff-075c-4a08-e75d-5d5240916e2e"
      },
      "outputs": [
        {
          "name": "stdout",
          "output_type": "stream",
          "text": [
            "+------------------------------+--------+------------------------------+-----+----------+\n",
            "|                    clean_text|category|                   probability|label|prediction|\n",
            "+------------------------------+--------+------------------------------+-----+----------+\n",
            "|#andyhurleyday #andyhurleyd...|       1|[0.9996523847736428,2.38449...|  0.0|       0.0|\n",
            "|@ the llama exhibit my son ...|       1|[0.9989295033734265,9.01622...|  0.0|       0.0|\n",
            "|what having voices your hea...|       1|[0.9976879400610135,4.20526...|  0.0|       0.0|\n",
            "|..i'm ink'd up..ink'd-ink'd...|       1|[0.9961368424691744,0.00356...|  0.0|       0.0|\n",
            "|@CHRISDJMOYLES Strictly Com...|       1|[0.9951054798348982,0.00446...|  0.0|       0.0|\n",
            "|@archukat what do you mean ...|       1|[0.9949477128218247,0.00455...|  0.0|       0.0|\n",
            "| thought about occasionally...|       1|[0.9947389517405888,0.00157...|  0.0|       0.0|\n",
            "|@apunbindaas More, much mor...|       1|[0.9946376961485853,0.00486...|  0.0|       0.0|\n",
            "|@__Parasite__ :OOO sounds p...|       1|[0.9942694871268826,0.00539...|  0.0|       0.0|\n",
            "| you ever feel unwanted aro...|       1|[0.9935360036294447,0.00278...|  0.0|       0.0|\n",
            "+------------------------------+--------+------------------------------+-----+----------+\n",
            "only showing top 10 rows\n",
            "\n"
          ]
        }
      ],
      "source": [
        "lr = LogisticRegression(maxIter=20, regParam=0.3, elasticNetParam=0)\n",
        "lrModel = lr.fit(trainingData)\n",
        "\n",
        "predictions = lrModel.transform(testData)\n",
        "\n",
        "predictions.filter(predictions['prediction'] == 0).select(\"clean_text\",\"category\",\"probability\",\"label\",\"prediction\")\\\n",
        ".orderBy(\"probability\", ascending=False).show(n = 10, truncate = 30)"
      ]
    },
    {
      "cell_type": "code",
      "execution_count": null,
      "metadata": {
        "colab": {
          "base_uri": "https://localhost:8080/"
        },
        "id": "Uku1uY6Xpa1y",
        "outputId": "81ba4ea6-ee53-4771-cf27-ce9221e9fe90"
      },
      "outputs": [
        {
          "data": {
            "text/plain": [
              "0.7359493119644521"
            ]
          },
          "execution_count": 18,
          "metadata": {},
          "output_type": "execute_result"
        }
      ],
      "source": [
        "from pyspark.ml.evaluation import MulticlassClassificationEvaluator\n",
        "evaluator = MulticlassClassificationEvaluator(predictionCol=\"prediction\")\n",
        "evaluator.evaluate(predictions)"
      ]
    },
    {
      "cell_type": "markdown",
      "metadata": {
        "id": "bVcaumOjpkSG"
      },
      "source": [
        "Cross Validation\n"
      ]
    },
    {
      "cell_type": "code",
      "execution_count": null,
      "metadata": {
        "id": "6GaLyAACJ6NM"
      },
      "outputs": [],
      "source": [
        "pipeline = Pipeline(stages=[regexTokenizer, stopwordsRemover, countVectors, label_stringIdx])\n",
        "\n",
        "pipelineFit = pipeline.fit(data)\n",
        "dataset = pipelineFit.transform(data)\n",
        "(trainingData, testData) = dataset.randomSplit([0.7, 0.3], seed = 100)\n",
        "\n",
        "lr = LogisticRegression(maxIter=20, regParam=0.3, elasticNetParam=0)"
      ]
    },
    {
      "cell_type": "code",
      "execution_count": null,
      "metadata": {
        "id": "tKIzf7t1KRIi"
      },
      "outputs": [],
      "source": [
        "from pyspark.ml.tuning import ParamGridBuilder, CrossValidator\n",
        "\n",
        "# Create ParamGrid for Cross Validation\n",
        "paramGrid = (ParamGridBuilder()\n",
        "             .addGrid(lr.regParam, [0.1, 0.3, 0.5]) # regularization parameter\n",
        "             .addGrid(lr.elasticNetParam, [0.0, 0.1, 0.2]) # Elastic Net Parameter (Ridge = 0)\n",
        "             #.addGrid(model.maxIter, [10, 20, 50]) #Number of iterations\n",
        "             #.addGrid(idf.numFeatures, [10, 100, 1000]) # Number of features\n",
        "             .build())\n",
        "\n",
        "# Create 5-fold CrossValidator\n",
        "cv = CrossValidator(estimator=lr, \\\n",
        "                    estimatorParamMaps=paramGrid, \\\n",
        "                    evaluator=evaluator, \\\n",
        "                    numFolds=5)\n",
        "\n",
        "cvModel = cv.fit(trainingData)\n",
        "\n",
        "predictions = cvModel.transform(testData)\n",
        "# Evaluate best model\n",
        "evaluator = MulticlassClassificationEvaluator(predictionCol=\"prediction\")\n",
        "lrAccuracy=evaluator.evaluate(predictions)"
      ]
    },
    {
      "cell_type": "code",
      "execution_count": null,
      "metadata": {
        "colab": {
          "base_uri": "https://localhost:8080/"
        },
        "id": "YO8zO03mVb9L",
        "outputId": "f42fcc94-98fa-4770-f584-89caf9b817ad"
      },
      "outputs": [
        {
          "name": "stdout",
          "output_type": "stream",
          "text": [
            "+------------------------------+--------+------------------------------+-----+----------+\n",
            "|                    clean_text|category|                   probability|label|prediction|\n",
            "+------------------------------+--------+------------------------------+-----+----------+\n",
            "|@armybrat4life1 Get 100 fol...|       1|[0.9999999981121803,1.88781...|  0.0|       0.0|\n",
            "|@annmaryen Get 100 follower...|       1|[0.9999999981121803,1.88781...|  0.0|       0.0|\n",
            "|@casinojack Get 100 followe...|       1|[0.9999999981121803,1.88781...|  0.0|       0.0|\n",
            "|@caramellov4u Get 100 follo...|       1|[0.9999999981121803,1.88781...|  0.0|       0.0|\n",
            "|@arya_johari Get 100 follow...|       1|[0.9999999981121803,1.88781...|  0.0|       0.0|\n",
            "|@cleeboyyy Get 100 follower...|       1|[0.9999999981121803,1.88781...|  0.0|       0.0|\n",
            "|@crittersize Get 100 follow...|       1|[0.9999999981121803,1.88781...|  0.0|       0.0|\n",
            "|@crystalized09 Get 100 foll...|       1|[0.9999999981121803,1.88781...|  0.0|       0.0|\n",
            "|@chanaluvsyew Get 100 follo...|       1|[0.9999999981121803,1.88781...|  0.0|       0.0|\n",
            "|@chaseme23 Get 100 follower...|       1|[0.9999999981121803,1.88781...|  0.0|       0.0|\n",
            "+------------------------------+--------+------------------------------+-----+----------+\n",
            "only showing top 10 rows\n",
            "\n"
          ]
        }
      ],
      "source": [
        "from pyspark.ml.classification import NaiveBayes\n",
        "nb = NaiveBayes(smoothing=1)\n",
        "nbModel = nb.fit(trainingData)\n",
        "predictions = nbModel.transform(testData)\n",
        "predictions.filter(predictions['prediction'] == 0) \\\n",
        "    .select(\"clean_text\",\"category\",\"probability\",\"label\",\"prediction\") \\\n",
        "    .orderBy(\"probability\", ascending=False) \\\n",
        "    .show(n = 10, truncate = 30)"
      ]
    },
    {
      "cell_type": "code",
      "execution_count": null,
      "metadata": {
        "colab": {
          "base_uri": "https://localhost:8080/"
        },
        "id": "MhHubtTIdFsF",
        "outputId": "b3a3498a-32b3-4b2b-f74e-0f1e50677a52"
      },
      "outputs": [
        {
          "name": "stdout",
          "output_type": "stream",
          "text": [
            "0.7492413344386659\n"
          ]
        }
      ],
      "source": [
        "evaluator = MulticlassClassificationEvaluator(predictionCol=\"prediction\")\n",
        "nbAccuracy = evaluator.evaluate(predictions)\n",
        "print(nbAccuracy)"
      ]
    },
    {
      "cell_type": "code",
      "execution_count": null,
      "metadata": {
        "colab": {
          "base_uri": "https://localhost:8080/"
        },
        "id": "j4BqWnozdJP3",
        "outputId": "af4592d5-6399-442d-e602-bd1d7d04fef3"
      },
      "outputs": [
        {
          "name": "stdout",
          "output_type": "stream",
          "text": [
            "+------------------------------+--------+------------------------------+-----+----------+\n",
            "|                    clean_text|category|                   probability|label|prediction|\n",
            "+------------------------------+--------+------------------------------+-----+----------+\n",
            "|@_crayegg Get 100 followers...|       1|[0.6282846411241865,0.36833...|  0.0|       0.0|\n",
            "|@brand2930420 Get 100 follo...|       1|[0.6282846411241865,0.36833...|  0.0|       0.0|\n",
            "|@cleowantsalext Get 100 fol...|       1|[0.6282846411241865,0.36833...|  0.0|       0.0|\n",
            "|@cookiebaby Get 100 followe...|       1|[0.6282846411241865,0.36833...|  0.0|       0.0|\n",
            "|@anna_banana25 Get 100 foll...|       1|[0.6282846411241865,0.36833...|  0.0|       0.0|\n",
            "|@christlikegirl Get 100 fol...|       1|[0.6282846411241865,0.36833...|  0.0|       0.0|\n",
            "|@crazy_k09 Get 100 follower...|       1|[0.6282846411241865,0.36833...|  0.0|       0.0|\n",
            "|@chaserman911 Get 100 follo...|       1|[0.6282846411241865,0.36833...|  0.0|       0.0|\n",
            "|@applecritics Get 100 follo...|       1|[0.6282846411241865,0.36833...|  0.0|       0.0|\n",
            "|@cheniya Get 100 followers ...|       1|[0.6282846411241865,0.36833...|  0.0|       0.0|\n",
            "+------------------------------+--------+------------------------------+-----+----------+\n",
            "only showing top 10 rows\n",
            "\n"
          ]
        }
      ],
      "source": [
        "from pyspark.ml.classification import RandomForestClassifier\n",
        "rf = RandomForestClassifier(labelCol=\"label\", \\\n",
        "                            featuresCol=\"features\", \\\n",
        "                            numTrees = 100, \\\n",
        "                            maxDepth = 4, \\\n",
        "                            maxBins = 32)\n",
        "# Train model with Training Data\n",
        "rfModel = rf.fit(trainingData)\n",
        "predictions = rfModel.transform(testData)\n",
        "predictions.filter(predictions['prediction'] == 0) \\\n",
        "    .select(\"clean_text\",\"category\",\"probability\",\"label\",\"prediction\") \\\n",
        "    .orderBy(\"probability\", ascending=False) \\\n",
        "    .show(n = 10, truncate = 30)"
      ]
    },
    {
      "cell_type": "code",
      "execution_count": null,
      "metadata": {
        "colab": {
          "base_uri": "https://localhost:8080/"
        },
        "id": "5cfTZcj_dKWW",
        "outputId": "127ac74f-f0e0-463f-9575-c42b8adf7da8"
      },
      "outputs": [
        {
          "name": "stdout",
          "output_type": "stream",
          "text": [
            "0.4055776969734774\n"
          ]
        }
      ],
      "source": [
        "evaluator = MulticlassClassificationEvaluator(predictionCol=\"prediction\")\n",
        "rfAccuracy = evaluator.evaluate(predictions)\n",
        "print(rfAccuracy) "
      ]
    },
    {
      "cell_type": "code",
      "execution_count": null,
      "metadata": {
        "colab": {
          "base_uri": "https://localhost:8080/"
        },
        "id": "EVXHa-3pdLkH",
        "outputId": "dc85f1ff-ee64-4685-f704-ba71695430ae"
      },
      "outputs": [
        {
          "name": "stdout",
          "output_type": "stream",
          "text": [
            "+------------------------------+--------+-----+----------+\n",
            "|                    clean_text|category|label|prediction|\n",
            "+------------------------------+--------+-----+----------+\n",
            "|                     FUCK YOU!|       0|  1.0|       0.0|\n",
            "|          i want some ben&a...|       0|  1.0|       0.0|\n",
            "|         or i just worry to...|       0|  1.0|       0.0|\n",
            "|       Hardest working chic...|       1|  0.0|       0.0|\n",
            "|       Juuuuuuuuuuuuuuuuuss...|       1|  0.0|       0.0|\n",
            "|      I must think about po...|       0|  1.0|       0.0|\n",
            "|            what the hell BBC?|       0|  1.0|       0.0|\n",
            "|                      #canucks|       0|  1.0|       0.0|\n",
            "|     &lt;- but mustache man...|       0|  1.0|       0.0|\n",
            "|     @riceuniversiity I kno...|       0|  1.0|       0.0|\n",
            "+------------------------------+--------+-----+----------+\n",
            "only showing top 10 rows\n",
            "\n"
          ]
        }
      ],
      "source": [
        "from pyspark.ml.classification import LogisticRegression, OneVsRest\n",
        "lr = LogisticRegression(maxIter=20, regParam=0.3, elasticNetParam=0)\n",
        "\n",
        "\n",
        "ovr = OneVsRest(classifier=lr)\n",
        "\n",
        "ovrModel = ovr.fit(trainingData)\n",
        "\n",
        "# score the model on test data.\n",
        "predictions = ovrModel.transform(testData)\n",
        "\n",
        "predictions.filter(predictions['prediction'] == 0) \\\n",
        "    .select(\"clean_text\",\"category\",\"label\",\"prediction\") \\\n",
        "    .show(n = 10, truncate = 30)\n"
      ]
    },
    {
      "cell_type": "code",
      "execution_count": null,
      "metadata": {
        "colab": {
          "base_uri": "https://localhost:8080/"
        },
        "id": "JADHes0DdNXa",
        "outputId": "e4c83a05-ffa5-4a7d-c198-a60fc29871b7"
      },
      "outputs": [
        {
          "name": "stdout",
          "output_type": "stream",
          "text": [
            "0.7278688038734377\n"
          ]
        }
      ],
      "source": [
        "evaluator = MulticlassClassificationEvaluator(predictionCol=\"prediction\")\n",
        "ovrAccuracy = evaluator.evaluate(predictions)\n",
        "print(ovrAccuracy)"
      ]
    },
    {
      "cell_type": "code",
      "execution_count": null,
      "metadata": {
        "id": "PMu5SM8jhpuO"
      },
      "outputs": [],
      "source": [
        "import matplotlib.pyplot as plt\n",
        "import numpy as np\n",
        "model = ['Logistic regression', 'Naive Bayes', 'Random Forest', 'OneVsRest']\n",
        "accuracy = [lrAccuracy,nbAccuracy,rfAccuracy, ovrAccuracy]"
      ]
    },
    {
      "cell_type": "code",
      "execution_count": null,
      "metadata": {
        "colab": {
          "base_uri": "https://localhost:8080/",
          "height": 341
        },
        "id": "9qHLwpi-hpr0",
        "outputId": "ea5cdcc2-87ab-43d0-f864-467ae80c2d83"
      },
      "outputs": [
        {
          "data": {
            "image/png": "[encoded data removed]",
            "text/plain": [
              "<Figure size 432x288 with 1 Axes>"
            ]
          },
          "metadata": {
            "needs_background": "light"
          },
          "output_type": "display_data"
        }
      ],
      "source": [
        "def plot_bar_x():\n",
        "    # this is for plotting purpose\n",
        "    index = np.arange(len(model))\n",
        "    plt.bar(index, accuracy)\n",
        "    plt.xlabel('models', fontsize=10)\n",
        "    plt.ylabel('prediction accuracy', fontsize=10)\n",
        "    plt.xticks(index, model, fontsize=10, rotation=30)\n",
        "    plt.title('Accuracy of each model')\n",
        "    plt.show()\n",
        "    \n",
        "plot_bar_x()"
      ]
    }
  ],
  "metadata": {
    "accelerator": "GPU",
    "colab": {
      "name": "Twitter_LR.ipynb",
      "provenance": []
    },
    "kernelspec": {
      "display_name": "Python 3",
      "name": "python3"
    },
    "language_info": {
      "name": "python"
    }
  },
  "nbformat": 4,
  "nbformat_minor": 0
}
