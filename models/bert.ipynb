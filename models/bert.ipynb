{
  "cells": [
    {
      "cell_type": "code",
      "execution_count": null,
      "metadata": {
        "colab": {
          "background_save": true,
          "base_uri": "https://localhost:8080/"
        },
        "id": "wa7g_xG7EnpP",
        "outputId": "570123f4-0898-4b8c-fdc1-11803a7038c2"
      },
      "outputs": [
        {
          "name": "stdout",
          "output_type": "stream",
          "text": [
            "\u001b[K     |████████████████████████████████| 212.4 MB 68 kB/s \n",
            "\u001b[K     |████████████████████████████████| 133 kB 49.5 MB/s \n",
            "\u001b[K     |████████████████████████████████| 198 kB 49.7 MB/s \n",
            "\u001b[?25h  Building wheel for pyspark (setup.py) ... \u001b[?25l\u001b[?25hdone\n"
          ]
        }
      ],
      "source": [
        "! pip install -q pyspark==3.1.2 spark-nlp"
      ]
    },
    {
      "cell_type": "code",
      "execution_count": null,
      "metadata": {
        "colab": {
          "base_uri": "https://localhost:8080/",
          "height": 369
        },
        "id": "yEJktiY2EP_f",
        "outputId": "58c9cc14-ab78-4ca2-ba09-450cd17b2301"
      },
      "outputs": [
        {
          "name": "stdout",
          "output_type": "stream",
          "text": [
            "Spark NLP version 3.3.4\n",
            "Apache Spark version: 3.1.2\n"
          ]
        },
        {
          "data": {
            "text/html": [
              "\n",
              "            <div>\n",
              "                <p><b>SparkSession - in-memory</b></p>\n",
              "                \n",
              "        <div>\n",
              "            <p><b>SparkContext</b></p>\n",
              "\n",
              "            <p><a href=\"http://0f7d85fee75c:4040\">Spark UI</a></p>\n",
              "\n",
              "            <dl>\n",
              "              <dt>Version</dt>\n",
              "                <dd><code>v3.1.2</code></dd>\n",
              "              <dt>Master</dt>\n",
              "                <dd><code>local[*]</code></dd>\n",
              "              <dt>AppName</dt>\n",
              "                <dd><code>Spark NLP</code></dd>\n",
              "            </dl>\n",
              "        </div>\n",
              "        \n",
              "            </div>\n",
              "        "
            ],
            "text/plain": [
              "<pyspark.sql.session.SparkSession at 0x7ff91e099710>"
            ]
          },
          "execution_count": 2,
          "metadata": {},
          "output_type": "execute_result"
        }
      ],
      "source": [
        "import sparknlp\n",
        "\n",
        "spark = sparknlp.start(gpu = True) # for GPU training >> sparknlp.start(gpu = True) # for Spark 2.3 =>> sparknlp.start(spark23 = True)\n",
        "\n",
        "from sparknlp.base import *\n",
        "from sparknlp.annotator import *\n",
        "from pyspark.ml import Pipeline\n",
        "import pandas as pd\n",
        "\n",
        "\n",
        "print(\"Spark NLP version\", sparknlp.version())\n",
        "print(\"Apache Spark version:\", spark.version)\n",
        "\n",
        "spark"
      ]
    },
    {
      "cell_type": "code",
      "execution_count": null,
      "metadata": {
        "colab": {
          "base_uri": "https://localhost:8080/"
        },
        "id": "JukkIpFRf5sK",
        "outputId": "d1167469-3937-412d-ac46-291cff964943"
      },
      "outputs": [
        {
          "name": "stdout",
          "output_type": "stream",
          "text": [
            "Mounted at /content/drive\n"
          ]
        }
      ],
      "source": [
        "from google.colab import drive\n",
        "drive.mount('/content/drive')"
      ]
    },
    {
      "cell_type": "code",
      "execution_count": null,
      "metadata": {
        "colab": {
          "base_uri": "https://localhost:8080/"
        },
        "id": "MikTZKLCEmQx",
        "outputId": "5bab19e9-d399-428e-d4d2-882fb7b44aba"
      },
      "outputs": [
        {
          "name": "stdout",
          "output_type": "stream",
          "text": [
            "+--------------------------------------------------+---------+\n",
            "|                                     clean_comment| category|\n",
            "+--------------------------------------------------+---------+\n",
            "|                                    sick this shit|depressed|\n",
            "|                                        will pass |depressed|\n",
            "|                                    need some help|depressed|\n",
            "|                                       need reason|depressed|\n",
            "|                                  hit rock bottom |depressed|\n",
            "|                     alone depressed real friends |    happy|\n",
            "|                             should consider meds |depressed|\n",
            "|                     want die but won  kill myself|depressed|\n",
            "|                           heart physically hurts |depressed|\n",
            "|                            should happy but   not|    happy|\n",
            "|                            feel absolutely awful |depressed|\n",
            "| feel empty even though should happy and going ...|depressed|\n",
            "|               feeling really depressed and lonely|    happy|\n",
            "|people try guilt others for being depressed mor...|    happy|\n",
            "| struggling with being extremely lonely has pba...|depressed|\n",
            "|       just feel overwhelmed and lonely right now |    happy|\n",
            "|                                 feel peace today |depressed|\n",
            "|                      bestfriend fucked over today|depressed|\n",
            "|                                             stuck|depressed|\n",
            "|dating someone with pba depession while you you...|    happy|\n",
            "+--------------------------------------------------+---------+\n",
            "only showing top 20 rows\n",
            "\n"
          ]
        }
      ],
      "source": [
        "trainDataset = spark.read \\\n",
        "      .option(\"header\", True) \\\n",
        "      .csv(\"/content/drive/MyDrive/bert.csv\")\n",
        "\n",
        "trainDataset.show(truncate=50)"
      ]
    },
    {
      "cell_type": "code",
      "execution_count": null,
      "metadata": {
        "colab": {
          "base_uri": "https://localhost:8080/"
        },
        "id": "p27l33V4Eysy",
        "outputId": "0237109d-1355-4eef-9017-2ee5280a4205"
      },
      "outputs": [
        {
          "data": {
            "text/plain": [
              "7139"
            ]
          },
          "execution_count": 6,
          "metadata": {},
          "output_type": "execute_result"
        }
      ],
      "source": [
        "trainDataset.count()"
      ]
    },
    {
      "cell_type": "code",
      "execution_count": null,
      "metadata": {
        "colab": {
          "base_uri": "https://localhost:8080/"
        },
        "id": "l0eIxcRtE0jq",
        "outputId": "594152dd-f353-42f0-d3ff-085e1f2bb9f5"
      },
      "outputs": [
        {
          "name": "stdout",
          "output_type": "stream",
          "text": [
            "+---------+-----+\n",
            "| category|count|\n",
            "+---------+-----+\n",
            "|depressed| 2365|\n",
            "|     calm| 2017|\n",
            "|    happy| 1635|\n",
            "|    angry| 1122|\n",
            "+---------+-----+\n",
            "\n"
          ]
        }
      ],
      "source": [
        "from pyspark.sql.functions import col\n",
        "\n",
        "trainDataset.groupBy(\"category\") \\\n",
        "    .count() \\\n",
        "    .orderBy(col(\"count\").desc()) \\\n",
        "    .show()"
      ]
    },
    {
      "cell_type": "code",
      "execution_count": null,
      "metadata": {
        "colab": {
          "base_uri": "https://localhost:8080/"
        },
        "id": "2mZQDtCsFQsi",
        "outputId": "cd2df5bc-2b5a-4a21-c4ae-a5d3e164fc98"
      },
      "outputs": [
        {
          "name": "stdout",
          "output_type": "stream",
          "text": [
            "Training Dataset Count: 4999\n",
            "Test Dataset Count: 2140\n"
          ]
        }
      ],
      "source": [
        "(trainingData, testData) = trainDataset.randomSplit([0.7, 0.3], seed = 100)\n",
        "print(\"Training Dataset Count: \" + str(trainingData.count()))\n",
        "print(\"Test Dataset Count: \" + str(testData.count()))"
      ]
    },
    {
      "cell_type": "code",
      "execution_count": null,
      "metadata": {
        "colab": {
          "base_uri": "https://localhost:8080/"
        },
        "id": "dgrM9KwNFS4T",
        "outputId": "f92bf23c-3522-4654-a396-7187caecbf3f"
      },
      "outputs": [
        {
          "name": "stdout",
          "output_type": "stream",
          "text": [
            "lemma_antbnc download started this may take some time.\n",
            "Approximate size to download 907.6 KB\n",
            "[OK!]\n"
          ]
        }
      ],
      "source": [
        "document_assembler = DocumentAssembler() \\\n",
        "    .setInputCol(\"clean_comment\") \\\n",
        "    .setOutputCol(\"document\")\n",
        "    \n",
        "tokenizer = Tokenizer() \\\n",
        "    .setInputCols([\"document\"]) \\\n",
        "    .setOutputCol(\"token\")\n",
        "      \n",
        "normalizer = Normalizer() \\\n",
        "    .setInputCols([\"token\"]) \\\n",
        "    .setOutputCol(\"normalized\")\n",
        "\n",
        "stopwords_cleaner = StopWordsCleaner()\\\n",
        "    .setInputCols(\"normalized\")\\\n",
        "    .setOutputCol(\"cleanTokens\")\\\n",
        "    .setCaseSensitive(False)\n",
        "\n",
        "lemma = LemmatizerModel.pretrained('lemma_antbnc') \\\n",
        "    .setInputCols([\"cleanTokens\"]) \\\n",
        "    .setOutputCol(\"lemma\")"
      ]
    },
    {
      "cell_type": "code",
      "execution_count": null,
      "metadata": {
        "colab": {
          "base_uri": "https://localhost:8080/"
        },
        "id": "4csHGYwnFZcH",
        "outputId": "1f3bf8db-0f32-4c2a-c0c0-b507101a6847"
      },
      "outputs": [
        {
          "name": "stdout",
          "output_type": "stream",
          "text": [
            "glove_100d download started this may take some time.\n",
            "Approximate size to download 145.3 MB\n",
            "[OK!]\n"
          ]
        }
      ],
      "source": [
        "glove_embeddings = WordEmbeddingsModel().pretrained() \\\n",
        "      .setInputCols([\"document\",'lemma'])\\\n",
        "      .setOutputCol(\"embeddings\")\\\n",
        "      .setCaseSensitive(False)\n",
        "\n",
        "embeddingsSentence = SentenceEmbeddings() \\\n",
        "      .setInputCols([\"document\", \"embeddings\"]) \\\n",
        "      .setOutputCol(\"sentence_embeddings\") \\\n",
        "      .setPoolingStrategy(\"AVERAGE\")\n",
        "\n",
        "classsifierdl = ClassifierDLApproach()\\\n",
        "      .setInputCols([\"sentence_embeddings\"])\\\n",
        "      .setOutputCol(\"class\")\\\n",
        "      .setLabelColumn(\"category\")\\\n",
        "      .setMaxEpochs(3)\\\n",
        "      .setEnableOutputLogs(True)\n",
        "      #.setOutputLogsPath('logs')\n",
        "\n",
        "clf_pipeline = Pipeline(\n",
        "    stages=[document_assembler, \n",
        "            tokenizer,\n",
        "            normalizer,\n",
        "            stopwords_cleaner, \n",
        "            lemma, \n",
        "            glove_embeddings,\n",
        "            embeddingsSentence,\n",
        "            classsifierdl])"
      ]
    },
    {
      "cell_type": "code",
      "execution_count": null,
      "metadata": {
        "id": "tbv8xzoqFcZD"
      },
      "outputs": [],
      "source": [
        "clf_pipelineModel = clf_pipeline.fit(trainDataset)"
      ]
    },
    {
      "cell_type": "code",
      "execution_count": null,
      "metadata": {
        "id": "O10c1wFXFtC1"
      },
      "outputs": [],
      "source": [
        "preds = clf_pipelineModel.transform(testData)"
      ]
    },
    {
      "cell_type": "code",
      "execution_count": null,
      "metadata": {
        "colab": {
          "base_uri": "https://localhost:8080/",
          "height": 362
        },
        "id": "0L6pEsoTGKRU",
        "outputId": "5102c450-1a3d-4c14-cbbe-7dcf50869183"
      },
      "outputs": [
        {
          "data": {
            "text/html": [
              "<div>\n",
              "<style scoped>\n",
              "    .dataframe tbody tr th:only-of-type {\n",
              "        vertical-align: middle;\n",
              "    }\n",
              "\n",
              "    .dataframe tbody tr th {\n",
              "        vertical-align: top;\n",
              "    }\n",
              "\n",
              "    .dataframe thead th {\n",
              "        text-align: right;\n",
              "    }\n",
              "</style>\n",
              "<table border=\"1\" class=\"dataframe\">\n",
              "  <thead>\n",
              "    <tr style=\"text-align: right;\">\n",
              "      <th></th>\n",
              "      <th>category</th>\n",
              "      <th>clean_comment</th>\n",
              "      <th>result</th>\n",
              "    </tr>\n",
              "  </thead>\n",
              "  <tbody>\n",
              "    <tr>\n",
              "      <th>850</th>\n",
              "      <td>happy</td>\n",
              "      <td>don’ forget smile even life seems like swing w...</td>\n",
              "      <td>angry</td>\n",
              "    </tr>\n",
              "    <tr>\n",
              "      <th>133</th>\n",
              "      <td>angry</td>\n",
              "      <td>assassination millennial</td>\n",
              "      <td>angry</td>\n",
              "    </tr>\n",
              "    <tr>\n",
              "      <th>563</th>\n",
              "      <td>depreesed</td>\n",
              "      <td>how you know you’ unhappy with your relationsh...</td>\n",
              "      <td>angry</td>\n",
              "    </tr>\n",
              "    <tr>\n",
              "      <th>196</th>\n",
              "      <td>angry</td>\n",
              "      <td>google searches lately</td>\n",
              "      <td>angry</td>\n",
              "    </tr>\n",
              "    <tr>\n",
              "      <th>411</th>\n",
              "      <td>depreesed</td>\n",
              "      <td>got kicked out around months ago…</td>\n",
              "      <td>angry</td>\n",
              "    </tr>\n",
              "    <tr>\n",
              "      <th>779</th>\n",
              "      <td>happy</td>\n",
              "      <td>happy for the first time long time</td>\n",
              "      <td>angry</td>\n",
              "    </tr>\n",
              "    <tr>\n",
              "      <th>98</th>\n",
              "      <td>angry</td>\n",
              "      <td>stuff makes mad instead smashing furniture il...</td>\n",
              "      <td>angry</td>\n",
              "    </tr>\n",
              "    <tr>\n",
              "      <th>12</th>\n",
              "      <td>angry</td>\n",
              "      <td>bit jealous</td>\n",
              "      <td>angry</td>\n",
              "    </tr>\n",
              "    <tr>\n",
              "      <th>34</th>\n",
              "      <td>angry</td>\n",
              "      <td>found out “ short hike” the name video game a...</td>\n",
              "      <td>angry</td>\n",
              "    </tr>\n",
              "    <tr>\n",
              "      <th>140</th>\n",
              "      <td>angry</td>\n",
              "      <td>biggest wtf job search</td>\n",
              "      <td>angry</td>\n",
              "    </tr>\n",
              "  </tbody>\n",
              "</table>\n",
              "</div>"
            ],
            "text/plain": [
              "      category                                      clean_comment result\n",
              "850      happy  don’ forget smile even life seems like swing w...  angry\n",
              "133      angry                           assassination millennial  angry\n",
              "563  depreesed  how you know you’ unhappy with your relationsh...  angry\n",
              "196      angry                            google searches lately   angry\n",
              "411  depreesed                 got kicked out around months ago…   angry\n",
              "779      happy                happy for the first time long time   angry\n",
              "98       angry   stuff makes mad instead smashing furniture il...  angry\n",
              "12       angry                                        bit jealous  angry\n",
              "34       angry   found out “ short hike” the name video game a...  angry\n",
              "140      angry                             biggest wtf job search  angry"
            ]
          },
          "execution_count": 36,
          "metadata": {},
          "output_type": "execute_result"
        }
      ],
      "source": [
        "preds_df.sample(10)"
      ]
    },
    {
      "cell_type": "code",
      "execution_count": null,
      "metadata": {
        "colab": {
          "base_uri": "https://localhost:8080/"
        },
        "id": "Rmjea3XiGQB2",
        "outputId": "0ab2a0f6-3e73-4509-d46d-5b0d36519db2"
      },
      "outputs": [
        {
          "name": "stdout",
          "output_type": "stream",
          "text": [
            "+---------+-------------+------+\n",
            "| category|clean_comment|result|\n",
            "+---------+-------------+------+\n",
            "|     calm|         null|[calm]|\n",
            "|depressed|         null|[calm]|\n",
            "|depressed|         null|[calm]|\n",
            "|depressed|         null|[calm]|\n",
            "|depressed|         null|[calm]|\n",
            "|depressed|         null|[calm]|\n",
            "|depressed|         null|[calm]|\n",
            "|depressed|         null|[calm]|\n",
            "|     calm|             |[calm]|\n",
            "|     calm|             |[calm]|\n",
            "+---------+-------------+------+\n",
            "only showing top 10 rows\n",
            "\n"
          ]
        }
      ],
      "source": [
        "preds.select('category','clean_comment',\"class.result\").show(10, truncate=80)"
      ]
    },
    {
      "cell_type": "code",
      "execution_count": null,
      "metadata": {
        "id": "tBGBJ-D1IIP8"
      },
      "outputs": [],
      "source": [
        "preds_df = preds.select('category','clean_comment',\"class.result\").toPandas()"
      ]
    },
    {
      "cell_type": "code",
      "execution_count": null,
      "metadata": {
        "id": "icOjEc9QedF7"
      },
      "outputs": [],
      "source": [
        "preds_df['result'] = preds_df.result.apply(lambda x: ', '.join([str(i) for i in x]))"
      ]
    },
    {
      "cell_type": "code",
      "execution_count": null,
      "metadata": {
        "colab": {
          "base_uri": "https://localhost:8080/"
        },
        "id": "541VkUJ7IL0p",
        "outputId": "2177e767-dfdd-4157-ea89-a35d126a7f2f"
      },
      "outputs": [
        {
          "name": "stdout",
          "output_type": "stream",
          "text": [
            "              precision    recall  f1-score   support\n",
            "\n",
            "       angry       0.72      0.64      0.68       376\n",
            "        calm       0.66      0.75      0.70       515\n",
            "   depressed       0.68      0.71      0.70       674\n",
            "       happy       0.80      0.72      0.76       575\n",
            "\n",
            "    accuracy                           0.71      2140\n",
            "   macro avg       0.71      0.71      0.71      2140\n",
            "weighted avg       0.71      0.71      0.71      2140\n",
            "\n"
          ]
        }
      ],
      "source": [
        "from sklearn.metrics import classification_report\n",
        "\n",
        "print (classification_report(preds_df['result'], preds_df['category']))\n"
      ]
    },
    {
      "cell_type": "code",
      "execution_count": null,
      "metadata": {
        "colab": {
          "base_uri": "https://localhost:8080/"
        },
        "id": "MTK0IQ1ddbiE",
        "outputId": "2f3b759a-eac8-4474-cc2e-86113e6ab418"
      },
      "outputs": [
        {
          "name": "stdout",
          "output_type": "stream",
          "text": [
            "small_bert_L4_256 download started this may take some time.\n",
            "Approximate size to download 40.5 MB\n",
            "[OK!]\n"
          ]
        }
      ],
      "source": [
        "document_assembler = DocumentAssembler() \\\n",
        "    .setInputCol(\"clean_comment\") \\\n",
        "    .setOutputCol(\"document\")\n",
        "    \n",
        "tokenizer = Tokenizer() \\\n",
        "    .setInputCols([\"document\"]) \\\n",
        "    .setOutputCol(\"token\")\n",
        "      \n",
        "bert_embeddings = BertEmbeddings().pretrained(name='small_bert_L4_256', lang='en') \\\n",
        "    .setInputCols([\"document\",'token'])\\\n",
        "    .setOutputCol(\"embeddings\")\n",
        "\n",
        "embeddingsSentence = SentenceEmbeddings() \\\n",
        "    .setInputCols([\"document\", \"embeddings\"]) \\\n",
        "    .setOutputCol(\"sentence_embeddings\") \\\n",
        "    .setPoolingStrategy(\"AVERAGE\")\n",
        "\n",
        "classsifierdl = ClassifierDLApproach()\\\n",
        "    .setInputCols([\"sentence_embeddings\"])\\\n",
        "    .setOutputCol(\"class\")\\\n",
        "    .setLabelColumn(\"category\")\\\n",
        "    .setMaxEpochs(10)\\\n",
        "    .setLr(0.001)\\\n",
        "    .setBatchSize(8)\\\n",
        "    .setEnableOutputLogs(True)\n",
        "    #.setOutputLogsPath('logs')\n",
        "\n",
        "bert_clf_pipeline = Pipeline(stages=[\n",
        "    document_assembler, \n",
        "    tokenizer,\n",
        "    bert_embeddings,\n",
        "    embeddingsSentence,\n",
        "    classsifierdl\n",
        "])"
      ]
    },
    {
      "cell_type": "code",
      "execution_count": null,
      "metadata": {
        "id": "qegofNdYhpfI"
      },
      "outputs": [],
      "source": [
        "bert_clf_pipelineModel = bert_clf_pipeline.fit(trainDataset)"
      ]
    },
    {
      "cell_type": "code",
      "execution_count": null,
      "metadata": {
        "colab": {
          "base_uri": "https://localhost:8080/"
        },
        "id": "Kgj_fdpLhrP7",
        "outputId": "857c08b4-4f64-483f-cd90-d715216eefcf"
      },
      "outputs": [
        {
          "name": "stdout",
          "output_type": "stream",
          "text": [
            "              precision    recall  f1-score   support\n",
            "\n",
            "       angry       0.00      0.00      0.00         0\n",
            "        calm       0.08      0.52      0.15        95\n",
            "   depressed       0.98      0.34      0.50      2045\n",
            "       happy       0.00      0.00      0.00         0\n",
            "\n",
            "    accuracy                           0.35      2140\n",
            "   macro avg       0.27      0.21      0.16      2140\n",
            "weighted avg       0.94      0.35      0.49      2140\n",
            "\n"
          ]
        },
        {
          "name": "stderr",
          "output_type": "stream",
          "text": [
            "/usr/local/lib/python3.7/dist-packages/sklearn/metrics/_classification.py:1308: UndefinedMetricWarning: Recall and F-score are ill-defined and being set to 0.0 in labels with no true samples. Use `zero_division` parameter to control this behavior.\n",
            "  _warn_prf(average, modifier, msg_start, len(result))\n",
            "/usr/local/lib/python3.7/dist-packages/sklearn/metrics/_classification.py:1308: UndefinedMetricWarning: Recall and F-score are ill-defined and being set to 0.0 in labels with no true samples. Use `zero_division` parameter to control this behavior.\n",
            "  _warn_prf(average, modifier, msg_start, len(result))\n",
            "/usr/local/lib/python3.7/dist-packages/sklearn/metrics/_classification.py:1308: UndefinedMetricWarning: Recall and F-score are ill-defined and being set to 0.0 in labels with no true samples. Use `zero_division` parameter to control this behavior.\n",
            "  _warn_prf(average, modifier, msg_start, len(result))\n"
          ]
        }
      ],
      "source": [
        "from sklearn.metrics import classification_report\n",
        "\n",
        "preds = bert_clf_pipelineModel.transform(testData)\n",
        "\n",
        "preds_df = preds.select('category','clean_comment',\"class.result\").toPandas()\n",
        "\n",
        "preds_df['result'] = preds_df['result'].apply(lambda x : x[0])\n",
        "\n",
        "print (classification_report(preds_df['result'], preds_df['category']))"
      ]
    },
    {
      "cell_type": "code",
      "execution_count": null,
      "metadata": {
        "id": "6cePT76Tjtei"
      },
      "outputs": [],
      "source": []
    },
    {
      "cell_type": "code",
      "execution_count": null,
      "metadata": {
        "colab": {
          "base_uri": "https://localhost:8080/"
        },
        "id": "1oL3HnRtjtZi",
        "outputId": "0e40a379-4e82-4b47-e2f8-101cebbed216"
      },
      "outputs": [
        {
          "name": "stdout",
          "output_type": "stream",
          "text": [
            "sent_small_bert_L8_512 download started this may take some time.\n",
            "Approximate size to download 149.1 MB\n",
            "[OK!]\n"
          ]
        }
      ],
      "source": [
        "\n",
        "# actual content is inside description column\n",
        "document = DocumentAssembler()\\\n",
        "      .setInputCol(\"clean_comment\")\\\n",
        "      .setOutputCol(\"document\")\n",
        "    \n",
        "# we can also use sentece detector here if we want to train on and get predictions for each sentence\n",
        "\n",
        "bert_sent = BertSentenceEmbeddings.pretrained('sent_small_bert_L8_512')\\\n",
        "      .setInputCols([\"document\"])\\\n",
        "      .setOutputCol(\"sentence_embeddings\")\n",
        "\n",
        "# the classes/labels/categories are in category column\n",
        "classsifierdl = ClassifierDLApproach()\\\n",
        "      .setInputCols([\"sentence_embeddings\"])\\\n",
        "      .setOutputCol(\"class\")\\\n",
        "      .setLabelColumn(\"category\")\\\n",
        "      .setMaxEpochs(10)\\\n",
        "      .setEnableOutputLogs(True)\\\n",
        "      .setLr(0.001)\n",
        "\n",
        "bert_sent_clf_pipeline = Pipeline(\n",
        "    stages = [\n",
        "        document,\n",
        "        bert_sent,\n",
        "        classsifierdl\n",
        "    ])\n",
        "\n"
      ]
    },
    {
      "cell_type": "code",
      "execution_count": null,
      "metadata": {
        "colab": {
          "base_uri": "https://localhost:8080/"
        },
        "id": "KxArjjvFjtW0",
        "outputId": "3125571e-5213-49e5-dbf4-663a6ac83b58"
      },
      "outputs": [
        {
          "name": "stdout",
          "output_type": "stream",
          "text": [
            "CPU times: user 1.84 s, sys: 227 ms, total: 2.06 s\n",
            "Wall time: 6min 21s\n"
          ]
        }
      ],
      "source": [
        "%%time\n",
        "bert_sent_pipelineModel = bert_sent_clf_pipeline.fit(trainDataset)"
      ]
    },
    {
      "cell_type": "code",
      "execution_count": null,
      "metadata": {
        "colab": {
          "base_uri": "https://localhost:8080/"
        },
        "id": "7KOufYpklZzD",
        "outputId": "c4641255-6598-4ab7-f2f4-5e960ce73b97"
      },
      "outputs": [
        {
          "name": "stdout",
          "output_type": "stream",
          "text": [
            "              precision    recall  f1-score   support\n",
            "\n",
            "       angry       0.69      0.71      0.70       329\n",
            "        calm       0.62      0.73      0.67       490\n",
            "   depressed       0.79      0.67      0.73       820\n",
            "       happy       0.74      0.77      0.75       501\n",
            "\n",
            "    accuracy                           0.71      2140\n",
            "   macro avg       0.71      0.72      0.71      2140\n",
            "weighted avg       0.72      0.71      0.72      2140\n",
            "\n"
          ]
        }
      ],
      "source": [
        "from sklearn.metrics import classification_report\n",
        "\n",
        "preds = bert_sent_pipelineModel.transform(testData)\n",
        "\n",
        "preds_df = preds.select('category','clean_comment',\"class.result\").toPandas()\n",
        "\n",
        "preds_df['result'] = preds_df['result'].apply(lambda x : x[0])\n",
        "\n",
        "print (classification_report(preds_df['result'], preds_df['category']))"
      ]
    },
    {
      "cell_type": "code",
      "execution_count": null,
      "metadata": {
        "colab": {
          "base_uri": "https://localhost:8080/"
        },
        "id": "2v4bTrZDFmsb",
        "outputId": "2106ddac-9b70-41b0-e4cb-739f5bd791fc"
      },
      "outputs": [
        {
          "name": "stdout",
          "output_type": "stream",
          "text": [
            "sent_bert_use_cmlm_en_base download started this may take some time.\n",
            "Approximate size to download 391.6 MB\n",
            "[OK!]\n"
          ]
        }
      ],
      "source": [
        "document = DocumentAssembler()\\\n",
        "      .setInputCol(\"clean_comment\")\\\n",
        "      .setOutputCol(\"document\")\n",
        "    \n",
        "bert_cmlm = BertSentenceEmbeddings.pretrained('sent_bert_use_cmlm_en_base', 'en')\\\n",
        "      .setInputCols([\"document\"])\\\n",
        "      .setOutputCol(\"sentence_embeddings\")\n",
        "\n",
        "classsifierdl = ClassifierDLApproach()\\\n",
        "      .setInputCols([\"sentence_embeddings\"])\\\n",
        "      .setOutputCol(\"class\")\\\n",
        "      .setLabelColumn(\"category\")\\\n",
        "      .setMaxEpochs(10)\\\n",
        "      .setEnableOutputLogs(True)\\\n",
        "      .setLr(0.001)\n",
        "\n",
        "bert_cmlm_clf_pipeline = Pipeline(\n",
        "    stages = [\n",
        "        document,\n",
        "        bert_cmlm,\n",
        "        classsifierdl\n",
        "    ])"
      ]
    },
    {
      "cell_type": "code",
      "execution_count": null,
      "metadata": {
        "id": "H9nbB1fnFqzJ"
      },
      "outputs": [],
      "source": [
        "bert_cmlm_pipelineModel = bert_cmlm_clf_pipeline.fit(trainDataset)"
      ]
    },
    {
      "cell_type": "code",
      "execution_count": null,
      "metadata": {
        "colab": {
          "base_uri": "https://localhost:8080/"
        },
        "id": "QPcjTLhKvRvv",
        "outputId": "5e21ab69-bd03-48f0-8cdb-63281b79bc64"
      },
      "outputs": [
        {
          "name": "stdout",
          "output_type": "stream",
          "text": [
            "              precision    recall  f1-score   support\n",
            "\n",
            "       angry       0.12      0.91      0.21        45\n",
            "        calm       0.79      0.65      0.71       708\n",
            "   depressed       0.83      0.65      0.73       895\n",
            "       happy       0.77      0.82      0.79       492\n",
            "\n",
            "    accuracy                           0.69      2140\n",
            "   macro avg       0.63      0.76      0.61      2140\n",
            "weighted avg       0.79      0.69      0.73      2140\n",
            "\n"
          ]
        }
      ],
      "source": [
        "from sklearn.metrics import classification_report\n",
        "\n",
        "preds = bert_cmlm_pipelineModel.transform(testData)\n",
        "\n",
        "preds_df = preds.select('category','clean_comment',\"class.result\").toPandas()\n",
        "\n",
        "preds_df['result'] = preds_df['result'].apply(lambda x : x[0])\n",
        "\n",
        "print (classification_report(preds_df['result'], preds_df['category']))"
      ]
    }
  ],
  "metadata": {
    "accelerator": "TPU",
    "colab": {
      "name": "BERT_2.ipynb",
      "provenance": []
    },
    "kernelspec": {
      "display_name": "Python 3",
      "name": "python3"
    },
    "language_info": {
      "name": "python"
    }
  },
  "nbformat": 4,
  "nbformat_minor": 0
}
