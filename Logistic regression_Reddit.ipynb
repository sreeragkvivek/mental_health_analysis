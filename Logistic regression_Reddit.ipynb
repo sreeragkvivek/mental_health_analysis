{
  "nbformat": 4,
  "nbformat_minor": 0,
  "metadata": {
    "colab": {
      "name": "Log_Reg_Reddit.ipynb",
      "provenance": []
    },
    "kernelspec": {
      "name": "python3",
      "display_name": "Python 3"
    },
    "language_info": {
      "name": "python"
    }
  },
  "cells": [
    {
      "cell_type": "markdown",
      "metadata": {
        "id": "fQ74iiCr3hKB"
      },
      "source": [
        "**Reddit** sentiment analysis and prediction using pyspark **REGRESSION MODEL**\n",
        "\n",
        "\n",
        "\n",
        "\n",
        "\n",
        "\n",
        "\n"
      ]
    },
    {
      "cell_type": "code",
      "metadata": {
        "id": "oXP8rfJs0GdU"
      },
      "source": [
        "from IPython import display\n",
        "import math\n",
        "import pandas as pd\n",
        "import numpy as np\n",
        "import pyspark\n",
        "\n",
        "from pyspark.sql import SQLContext\n",
        "from pyspark import SparkContext\n",
        "\n",
        "from pyspark.sql.types import *"
      ],
      "execution_count": 4,
      "outputs": []
    },
    {
      "cell_type": "code",
      "metadata": {
        "colab": {
          "base_uri": "https://localhost:8080/"
        },
        "id": "eR4zqEWd0cY_",
        "outputId": "13f06353-2ebc-48fd-d450-27d9fda3a1d1"
      },
      "source": [
        "sc =SparkContext()\n",
        "sqlContext = SQLContext(sc)"
      ],
      "execution_count": 5,
      "outputs": [
        {
          "output_type": "stream",
          "name": "stderr",
          "text": [
            "/usr/local/lib/python3.7/dist-packages/pyspark/sql/context.py:79: FutureWarning: Deprecated in 3.0.0. Use SparkSession.builder.getOrCreate() instead.\n",
            "  FutureWarning\n"
          ]
        }
      ]
    },
    {
      "cell_type": "code",
      "metadata": {
        "id": "FEcbvAku0dX_"
      },
      "source": [
        "customSchema = StructType([\n",
        "    StructField(\"clean_text\", StringType()), \n",
        "    StructField(\"category\", StringType())])"
      ],
      "execution_count": 6,
      "outputs": []
    },
    {
      "cell_type": "code",
      "metadata": {
        "colab": {
          "base_uri": "https://localhost:8080/"
        },
        "id": "zeKEJfA90eVd",
        "outputId": "daeb7e64-8ce4-4075-9fdd-04fc578a8c81"
      },
      "source": [
        "%cd /content/drive/MyDrive/BDMA/\n",
        "!ls"
      ],
      "execution_count": 11,
      "outputs": [
        {
          "output_type": "stream",
          "name": "stdout",
          "text": [
            "/content/drive/MyDrive/BDMA\n",
            "Reddit_Uncleaned.csv  redt_dataset.csv\tTweets_Uncleaned.csv\n"
          ]
        }
      ]
    },
    {
      "cell_type": "code",
      "metadata": {
        "colab": {
          "base_uri": "https://localhost:8080/"
        },
        "id": "xikE9CTA1BNx",
        "outputId": "a48f24a3-d08a-42a4-ffa5-9ec9bdbcb7f4"
      },
      "source": [
        "\n",
        "!pwd\n",
        "filename = '/content/drive/MyDrive/BDMA//redt_dataset.csv'\n",
        "df = sqlContext.read.format(\"csv\").option(\"header\", \"true\").schema(customSchema).load(filename)\n",
        "df.show()"
      ],
      "execution_count": 16,
      "outputs": [
        {
          "output_type": "stream",
          "name": "stdout",
          "text": [
            "/content/drive/My Drive/BDMA\n",
            "+--------------------+--------+\n",
            "|          clean_text|category|\n",
            "+--------------------+--------+\n",
            "| understand that ...|       1|\n",
            "|welcome depressio...|       1|\n",
            "| don’ want kill m...|       1|\n",
            "|’ been very depre...|       1|\n",
            "|everything seemed...|       1|\n",
            "| just really need...|      -1|\n",
            "|but instead devel...|       1|\n",
            "|you just laughed ...|       1|\n",
            "| really hope heav...|      -1|\n",
            "| lost grandfather...|      -1|\n",
            "| have zero motiva...|      -1|\n",
            "| mental health ha...|      -1|\n",
            "|that’ that’ the p...|       0|\n",
            "| want die not rea...|      -1|\n",
            "| feel like depres...|      -1|\n",
            "| can afford shit ...|      -1|\n",
            "| let people know ...|       1|\n",
            "| fucking sick and...|      -1|\n",
            "| cant cant out fo...|       1|\n",
            "|nowadays feel lik...|      -1|\n",
            "+--------------------+--------+\n",
            "only showing top 20 rows\n",
            "\n"
          ]
        }
      ]
    },
    {
      "cell_type": "code",
      "metadata": {
        "colab": {
          "base_uri": "https://localhost:8080/"
        },
        "id": "AUJeMuBk3a5H",
        "outputId": "750d5b9c-2b35-44f1-eb82-bb71ef149da4"
      },
      "source": [
        "data = df.na.drop(how='any')\n",
        "data.show(5)"
      ],
      "execution_count": 18,
      "outputs": [
        {
          "output_type": "stream",
          "name": "stdout",
          "text": [
            "+--------------------+--------+\n",
            "|          clean_text|category|\n",
            "+--------------------+--------+\n",
            "| understand that ...|       1|\n",
            "|welcome depressio...|       1|\n",
            "| don’ want kill m...|       1|\n",
            "|’ been very depre...|       1|\n",
            "|everything seemed...|       1|\n",
            "+--------------------+--------+\n",
            "only showing top 5 rows\n",
            "\n"
          ]
        }
      ]
    },
    {
      "cell_type": "code",
      "metadata": {
        "colab": {
          "base_uri": "https://localhost:8080/"
        },
        "id": "OSMvQp321S7_",
        "outputId": "d59fdb59-68c1-4252-ef4b-728fa8f8d594"
      },
      "source": [
        "data.printSchema()\n"
      ],
      "execution_count": 19,
      "outputs": [
        {
          "output_type": "stream",
          "name": "stdout",
          "text": [
            "root\n",
            " |-- clean_text: string (nullable = true)\n",
            " |-- category: string (nullable = true)\n",
            "\n"
          ]
        }
      ]
    },
    {
      "cell_type": "code",
      "metadata": {
        "colab": {
          "base_uri": "https://localhost:8080/"
        },
        "id": "6qAqMubD3UgE",
        "outputId": "a8160e3c-36f9-457d-a76c-26fb4e8aad66"
      },
      "source": [
        "from pyspark.sql.functions import col\n",
        "\n",
        "data.groupBy(\"category\").count().orderBy(col(\"count\").desc()).show()"
      ],
      "execution_count": 21,
      "outputs": [
        {
          "output_type": "stream",
          "name": "stdout",
          "text": [
            "+--------+-----+\n",
            "|category|count|\n",
            "+--------+-----+\n",
            "|      -1|  470|\n",
            "|       1|  459|\n",
            "|       0|   43|\n",
            "+--------+-----+\n",
            "\n"
          ]
        }
      ]
    },
    {
      "cell_type": "markdown",
      "metadata": {
        "id": "d6fzrgrb3dyH"
      },
      "source": [
        "*Model Pipeline*\n",
        "\n",
        "\n",
        "\n",
        "\n",
        "\n",
        "\n",
        "\n",
        "\n"
      ]
    },
    {
      "cell_type": "code",
      "metadata": {
        "id": "UGp7MuJJ34Na"
      },
      "source": [
        "from pyspark.ml.feature import RegexTokenizer, StopWordsRemover, CountVectorizer\n",
        "from pyspark.ml.classification import LogisticRegression\n",
        "\n",
        "# regular expression tokenizer\n",
        "regexTokenizer = RegexTokenizer(inputCol=\"clean_text\", outputCol=\"words\", pattern=\"\\\\W\")\n",
        "\n",
        "# stop words\n",
        "add_stopwords = [\"http\",\"https\",\"amp\",\"rt\",\"t\",\"c\",\"the\"] \n",
        "\n",
        "stopwordsRemover = StopWordsRemover(inputCol=\"words\", outputCol=\"filtered\").setStopWords(add_stopwords)\n",
        "\n",
        "# bag of words count\n",
        "countVectors = CountVectorizer(inputCol=\"filtered\", outputCol=\"features\", vocabSize=15000, minDF=5)"
      ],
      "execution_count": 22,
      "outputs": []
    },
    {
      "cell_type": "code",
      "metadata": {
        "colab": {
          "base_uri": "https://localhost:8080/"
        },
        "id": "3X622ihI4x8a",
        "outputId": "15a08f4b-1f23-4031-af6e-95aa328805e9"
      },
      "source": [
        "from pyspark.ml import Pipeline\n",
        "from pyspark.ml.feature import OneHotEncoder, StringIndexer, VectorAssembler\n",
        "label_stringIdx = StringIndexer(inputCol = \"category\", outputCol = \"label\")\n",
        "\n",
        "pipeline = Pipeline(stages=[regexTokenizer, stopwordsRemover, countVectors, label_stringIdx])\n",
        "\n",
        "# Fit the pipeline to training documents.\n",
        "pipelineFit = pipeline.fit(data)\n",
        "dataset = pipelineFit.transform(data)\n",
        "dataset.show(5)"
      ],
      "execution_count": 23,
      "outputs": [
        {
          "output_type": "stream",
          "name": "stdout",
          "text": [
            "+--------------------+--------+--------------------+--------------------+--------------------+-----+\n",
            "|          clean_text|category|               words|            filtered|            features|label|\n",
            "+--------------------+--------+--------------------+--------------------+--------------------+-----+\n",
            "| understand that ...|       1|[understand, that...|[understand, that...|(1890,[0,1,2,3,4,...|  1.0|\n",
            "|welcome depressio...|       1|[welcome, depress...|[welcome, depress...|(1890,[0,1,2,3,4,...|  1.0|\n",
            "| don’ want kill m...|       1|[don, want, kill,...|[don, want, kill,...|(1890,[0,3,4,5,9,...|  1.0|\n",
            "|’ been very depre...|       1|[been, very, depr...|[been, very, depr...|(1890,[0,1,2,3,5,...|  1.0|\n",
            "|everything seemed...|       1|[everything, seem...|[everything, seem...|(1890,[0,1,2,3,4,...|  1.0|\n",
            "+--------------------+--------+--------------------+--------------------+--------------------+-----+\n",
            "only showing top 5 rows\n",
            "\n"
          ]
        }
      ]
    },
    {
      "cell_type": "markdown",
      "metadata": {
        "id": "u_-y71M941hc"
      },
      "source": [
        "*Partition Training & Test sets / Model Training and Evaluation*"
      ]
    },
    {
      "cell_type": "code",
      "metadata": {
        "colab": {
          "base_uri": "https://localhost:8080/"
        },
        "id": "XAAqz0Tn4zAI",
        "outputId": "4ca394e2-1218-486e-df9a-381194f637e0"
      },
      "source": [
        "(trainingData, testData) = dataset.randomSplit([0.7, 0.3], seed = 100)\n",
        "print(\"Training Dataset Count: \" + str(trainingData.count()))\n",
        "print(\"Test Dataset Count: \" + str(testData.count()))"
      ],
      "execution_count": 24,
      "outputs": [
        {
          "output_type": "stream",
          "name": "stdout",
          "text": [
            "Training Dataset Count: 684\n",
            "Test Dataset Count: 288\n"
          ]
        }
      ]
    },
    {
      "cell_type": "code",
      "metadata": {
        "colab": {
          "base_uri": "https://localhost:8080/"
        },
        "id": "V01zYqHK458t",
        "outputId": "7550d059-8115-40ed-e511-0178f8d1efe5"
      },
      "source": [
        "lr = LogisticRegression(maxIter=20, regParam=0.3, elasticNetParam=0)\n",
        "lrModel = lr.fit(trainingData)\n",
        "\n",
        "predictions = lrModel.transform(testData)\n",
        "\n",
        "predictions.filter(predictions['prediction'] == 0).select(\"clean_text\",\"category\",\"probability\",\"label\",\"prediction\")\\\n",
        ".orderBy(\"probability\", ascending=False).show(n = 10, truncate = 30)"
      ],
      "execution_count": 25,
      "outputs": [
        {
          "output_type": "stream",
          "name": "stdout",
          "text": [
            "+------------------------------+--------+------------------------------+-----+----------+\n",
            "|                    clean_text|category|                   probability|label|prediction|\n",
            "+------------------------------+--------+------------------------------+-----+----------+\n",
            "| can live with the guilt an...|      -1|[0.9762245509655013,0.02121...|  0.0|       0.0|\n",
            "|first sorry for bad english...|      -1|[0.9521293975302003,0.04348...|  0.0|       0.0|\n",
            "| finally starting recover f...|      -1|[0.9472628630783014,0.04669...|  0.0|       0.0|\n",
            "|writing this after another ...|       1|[0.9454040410045139,0.05121...|  1.0|       0.0|\n",
            "| been poor whole life finis...|      -1|[0.9303841948252422,0.04527...|  0.0|       0.0|\n",
            "|this reddit post asking for...|      -1|[0.9193142814358951,0.07917...|  0.0|       0.0|\n",
            "|’ tired don’ complain becau...|       1|[0.9031143454381103,0.08881...|  1.0|       0.0|\n",
            "| feel held hostage unfortun...|      -1|[0.8894822482777025,0.10991...|  0.0|       0.0|\n",
            "| all long time lurker first...|      -1|[0.8842477115693349,0.10303...|  0.0|       0.0|\n",
            "|for years have been struggl...|       1|[0.8691871849895906,0.11744...|  1.0|       0.0|\n",
            "+------------------------------+--------+------------------------------+-----+----------+\n",
            "only showing top 10 rows\n",
            "\n"
          ]
        }
      ]
    },
    {
      "cell_type": "code",
      "metadata": {
        "colab": {
          "base_uri": "https://localhost:8080/"
        },
        "id": "pKWDK0Eg47Iu",
        "outputId": "d009cd2b-0742-43bb-e4de-20ce931ad217"
      },
      "source": [
        "from pyspark.ml.evaluation import MulticlassClassificationEvaluator\n",
        "evaluator = MulticlassClassificationEvaluator(predictionCol=\"prediction\")\n",
        "evaluator.evaluate(predictions)"
      ],
      "execution_count": 26,
      "outputs": [
        {
          "output_type": "execute_result",
          "data": {
            "text/plain": [
              "0.6338999788762146"
            ]
          },
          "metadata": {},
          "execution_count": 26
        }
      ]
    },
    {
      "cell_type": "markdown",
      "metadata": {
        "id": "iRjXjFXZ492E"
      },
      "source": [
        "*Logistic Regression using TF-IDF Features*"
      ]
    },
    {
      "cell_type": "code",
      "metadata": {
        "colab": {
          "base_uri": "https://localhost:8080/"
        },
        "id": "F2POd3t248Y4",
        "outputId": "26217233-e712-45d7-aeb6-13e29acc682e"
      },
      "source": [
        "from pyspark.ml.feature import HashingTF, IDF\n",
        "\n",
        "hashingTF = HashingTF(inputCol=\"filtered\", outputCol=\"rawFeatures\", numFeatures=10000)\n",
        "idf = IDF(inputCol=\"rawFeatures\", outputCol=\"features\", minDocFreq=5) #minDocFreq: remove sparse terms\n",
        "pipeline = Pipeline(stages=[regexTokenizer, stopwordsRemover, hashingTF, idf, label_stringIdx])\n",
        "\n",
        "pipelineFit = pipeline.fit(data)\n",
        "dataset = pipelineFit.transform(data)\n",
        "\n",
        "(trainingData, testData) = dataset.randomSplit([0.7, 0.3], seed = 100)\n",
        "lr = LogisticRegression(maxIter=20, regParam=0.3, elasticNetParam=0)\n",
        "lrModel = lr.fit(trainingData)\n",
        "\n",
        "predictions = lrModel.transform(testData)\n",
        "\n",
        "predictions.filter(predictions['prediction'] == 0) \\\n",
        "    .select(\"clean_text\",\"category\",\"probability\",\"label\",\"prediction\") \\\n",
        "    .orderBy(\"probability\", ascending=False) \\\n",
        "    .show(n = 10, truncate = 30)"
      ],
      "execution_count": 27,
      "outputs": [
        {
          "output_type": "stream",
          "name": "stdout",
          "text": [
            "+------------------------------+--------+------------------------------+-----+----------+\n",
            "|                    clean_text|category|                   probability|label|prediction|\n",
            "+------------------------------+--------+------------------------------+-----+----------+\n",
            "| can live with the guilt an...|      -1|[0.9883120311720182,0.00988...|  0.0|       0.0|\n",
            "|first sorry for bad english...|      -1|[0.9522443627753939,0.04354...|  0.0|       0.0|\n",
            "| all long time lurker first...|      -1|[0.9462319038715808,0.04594...|  0.0|       0.0|\n",
            "| been poor whole life finis...|      -1|[0.9365868334925681,0.04368...|  0.0|       0.0|\n",
            "| been stuck tearing for hou...|      -1|[0.9365348578680442,0.04847...|  0.0|       0.0|\n",
            "|writing this after another ...|       1|[0.9358110650866001,0.05933...|  1.0|       0.0|\n",
            "| finally starting recover f...|      -1|[0.9353617910829934,0.05799...|  0.0|       0.0|\n",
            "| have been unemployed for q...|       1|[0.9092383972026635,0.08695...|  1.0|       0.0|\n",
            "| swear the past could actua...|      -1|[0.890515628693977,0.080403...|  0.0|       0.0|\n",
            "| can feel myself sinking ag...|       1|[0.8728293166816685,0.11809...|  1.0|       0.0|\n",
            "+------------------------------+--------+------------------------------+-----+----------+\n",
            "only showing top 10 rows\n",
            "\n"
          ]
        }
      ]
    },
    {
      "cell_type": "code",
      "metadata": {
        "colab": {
          "base_uri": "https://localhost:8080/"
        },
        "id": "71ewABfo5BX2",
        "outputId": "db9c281f-0672-4be2-ead5-ac3410febb49"
      },
      "source": [
        "evaluator = MulticlassClassificationEvaluator(predictionCol=\"prediction\")\n",
        "evaluator.evaluate(predictions)"
      ],
      "execution_count": 28,
      "outputs": [
        {
          "output_type": "execute_result",
          "data": {
            "text/plain": [
              "0.613804959930691"
            ]
          },
          "metadata": {},
          "execution_count": 28
        }
      ]
    },
    {
      "cell_type": "markdown",
      "metadata": {
        "id": "w0INv75c5Eat"
      },
      "source": [
        "*Cross-Validation*"
      ]
    },
    {
      "cell_type": "code",
      "metadata": {
        "id": "jnUUdYzb5CfL"
      },
      "source": [
        "pipeline = Pipeline(stages=[regexTokenizer, stopwordsRemover, countVectors, label_stringIdx])\n",
        "\n",
        "pipelineFit = pipeline.fit(data)\n",
        "dataset = pipelineFit.transform(data)\n",
        "(trainingData, testData) = dataset.randomSplit([0.7, 0.3], seed = 100)\n",
        "\n",
        "lr = LogisticRegression(maxIter=20, regParam=0.3, elasticNetParam=0)"
      ],
      "execution_count": 29,
      "outputs": []
    },
    {
      "cell_type": "code",
      "metadata": {
        "id": "tw-qMkXp5GGV"
      },
      "source": [
        "from pyspark.ml.tuning import ParamGridBuilder, CrossValidator\n",
        "\n",
        "# Create ParamGrid for Cross Validation\n",
        "paramGrid = (ParamGridBuilder()\n",
        "             .addGrid(lr.regParam, [0.1, 0.3, 0.5]) # regularization parameter\n",
        "             .addGrid(lr.elasticNetParam, [0.0, 0.1, 0.2]) # Elastic Net Parameter (Ridge = 0)\n",
        "#            .addGrid(model.maxIter, [10, 20, 50]) #Number of iterations\n",
        "#            .addGrid(idf.numFeatures, [10, 100, 1000]) # Number of features\n",
        "             .build())\n",
        "\n",
        "# Create 5-fold CrossValidator\n",
        "cv = CrossValidator(estimator=lr, \\\n",
        "                    estimatorParamMaps=paramGrid, \\\n",
        "                    evaluator=evaluator, \\\n",
        "                    numFolds=5)\n",
        "\n",
        "cvModel = cv.fit(trainingData)\n",
        "\n",
        "predictions = cvModel.transform(testData)\n",
        "# Evaluate best model\n",
        "evaluator = MulticlassClassificationEvaluator(predictionCol=\"prediction\")\n",
        "evaluator.evaluate(predictions)"
      ],
      "execution_count": null,
      "outputs": []
    },
    {
      "cell_type": "code",
      "metadata": {
        "id": "KD37oAzz5HRR"
      },
      "source": [
        ""
      ],
      "execution_count": null,
      "outputs": []
    }
  ]
}