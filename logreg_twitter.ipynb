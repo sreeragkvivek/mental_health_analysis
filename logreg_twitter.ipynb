{
  "cells": [
    {
      "cell_type": "code",
      "execution_count": 1,
      "metadata": {
        "colab": {
          "base_uri": "https://localhost:8080/"
        },
        "id": "jf8BxOCloS8e",
        "outputId": "6f164f85-fa92-432d-8baa-d54dec4f02c6"
      },
      "outputs": [],
      "source": [
        "from IPython import display\n",
        "import math\n",
        "import pandas as pd\n",
        "import numpy as np\n",
        "\n",
        "from pyspark.sql import SQLContext\n",
        "from pyspark import SparkContext\n",
        "\n",
        "from pyspark.sql.types import *"
      ]
    },
    {
      "cell_type": "code",
      "execution_count": 2,
      "metadata": {
        "colab": {
          "base_uri": "https://localhost:8080/"
        },
        "id": "PBjhsC26oV5p",
        "outputId": "d6f52491-5ebd-4512-d6a0-f25bce5c11c8"
      },
      "outputs": [
        {
          "name": "stderr",
          "output_type": "stream",
          "text": [
            "21/12/06 11:21:16 WARN Utils: Your hostname, pop-os resolves to a loopback address: 127.0.1.1; using 192.168.29.178 instead (on interface wlo1)\n",
            "21/12/06 11:21:16 WARN Utils: Set SPARK_LOCAL_IP if you need to bind to another address\n",
            "WARNING: An illegal reflective access operation has occurred\n",
            "WARNING: Illegal reflective access by org.apache.spark.unsafe.Platform (file:/home/codevardhan/dev/mental_health_analysis/env/lib/python3.9/site-packages/pyspark/jars/spark-unsafe_2.12-3.2.0.jar) to constructor java.nio.DirectByteBuffer(long,int)\n",
            "WARNING: Please consider reporting this to the maintainers of org.apache.spark.unsafe.Platform\n",
            "WARNING: Use --illegal-access=warn to enable warnings of further illegal reflective access operations\n",
            "WARNING: All illegal access operations will be denied in a future release\n",
            "Using Spark's default log4j profile: org/apache/spark/log4j-defaults.properties\n",
            "Setting default log level to \"WARN\".\n",
            "To adjust logging level use sc.setLogLevel(newLevel). For SparkR, use setLogLevel(newLevel).\n",
            "21/12/06 11:21:16 WARN NativeCodeLoader: Unable to load native-hadoop library for your platform... using builtin-java classes where applicable\n",
            "/home/codevardhan/dev/mental_health_analysis/env/lib/python3.9/site-packages/pyspark/sql/context.py:77: FutureWarning: Deprecated in 3.0.0. Use SparkSession.builder.getOrCreate() instead.\n",
            "  warnings.warn(\n"
          ]
        }
      ],
      "source": [
        "sc =SparkContext()\n",
        "sqlContext = SQLContext(sc)"
      ]
    },
    {
      "cell_type": "code",
      "execution_count": 11,
      "metadata": {
        "id": "b2jJYMHOodpO"
      },
      "outputs": [],
      "source": [
        "customSchema = StructType([\n",
        "    StructField(\"clean_text\", StringType()), \n",
        "    StructField(\"category\", StringType())])"
      ]
    },
    {
      "cell_type": "code",
      "execution_count": 15,
      "metadata": {
        "id": "viJ1j24aopPz"
      },
      "outputs": [],
      "source": [
        "filename1 = 'data/tweets.csv'\n",
        "filename2 = 'data/reddit.csv'"
      ]
    },
    {
      "cell_type": "code",
      "execution_count": 16,
      "metadata": {
        "colab": {
          "base_uri": "https://localhost:8080/"
        },
        "id": "bUl_84mMo7CZ",
        "outputId": "8cd2d80e-d362-4716-e5fa-dc42e5f14a30"
      },
      "outputs": [
        {
          "data": {
            "text/plain": [
              "4175"
            ]
          },
          "execution_count": 16,
          "metadata": {},
          "output_type": "execute_result"
        }
      ],
      "source": [
        "df1 = sqlContext.read.format(\"csv\").option(\"header\", \"true\").schema(customSchema).load(filename1)\n",
        "df1.count()"
      ]
    },
    {
      "cell_type": "code",
      "execution_count": 17,
      "metadata": {
        "colab": {
          "base_uri": "https://localhost:8080/"
        },
        "id": "1j1nsakjw8mf",
        "outputId": "14246f42-6b75-49e2-99d3-5be8b778ea42"
      },
      "outputs": [
        {
          "data": {
            "text/plain": [
              "989"
            ]
          },
          "execution_count": 17,
          "metadata": {},
          "output_type": "execute_result"
        }
      ],
      "source": [
        "df2 = sqlContext.read.format(\"csv\").option(\"header\", \"true\").schema(customSchema).load(filename2)\n",
        "df2.count()"
      ]
    },
    {
      "cell_type": "code",
      "execution_count": 18,
      "metadata": {
        "colab": {
          "base_uri": "https://localhost:8080/"
        },
        "id": "zCAXkXuyxAHH",
        "outputId": "3ab4e943-c5ea-4462-ff6c-93d613e1b49a"
      },
      "outputs": [
        {
          "data": {
            "text/plain": [
              "5164"
            ]
          },
          "execution_count": 18,
          "metadata": {},
          "output_type": "execute_result"
        }
      ],
      "source": [
        "df = df1.union(df2)\n",
        "df.count() "
      ]
    },
    {
      "cell_type": "code",
      "execution_count": 19,
      "metadata": {
        "colab": {
          "base_uri": "https://localhost:8080/"
        },
        "id": "32DgQZxZo-mt",
        "outputId": "b1972f53-be76-44c4-b286-8cac0c4abde4"
      },
      "outputs": [
        {
          "name": "stdout",
          "output_type": "stream",
          "text": [
            "+----------+--------------------+\n",
            "|clean_text|            category|\n",
            "+----------+--------------------+\n",
            "|         0|                none|\n",
            "|         1|worry others focu...|\n",
            "|         2|denial anger barg...|\n",
            "|         3|really went etern...|\n",
            "|         4|2021 chez moi tra...|\n",
            "+----------+--------------------+\n",
            "only showing top 5 rows\n",
            "\n"
          ]
        },
        {
          "name": "stderr",
          "output_type": "stream",
          "text": [
            "21/12/06 11:22:26 WARN CSVHeaderChecker: Number of column in CSV header is not equal to number of fields in the schema:\n",
            " Header length: 3, schema size: 2\n",
            "CSV file: file:///home/codevardhan/dev/mental_health_analysis/data/tweets.csv\n"
          ]
        }
      ],
      "source": [
        "data = df.na.drop(how='any')\n",
        "data.show(5)"
      ]
    },
    {
      "cell_type": "code",
      "execution_count": 20,
      "metadata": {
        "colab": {
          "base_uri": "https://localhost:8080/"
        },
        "id": "1V14ufsTo_rC",
        "outputId": "8768e6bd-32a0-4fba-8737-2ff3aec1dd56"
      },
      "outputs": [
        {
          "name": "stdout",
          "output_type": "stream",
          "text": [
            "root\n",
            " |-- clean_text: string (nullable = true)\n",
            " |-- category: string (nullable = true)\n",
            "\n"
          ]
        }
      ],
      "source": [
        "data.printSchema()"
      ]
    },
    {
      "cell_type": "code",
      "execution_count": 21,
      "metadata": {
        "colab": {
          "base_uri": "https://localhost:8080/"
        },
        "id": "Hmx2QY6dpBSc",
        "outputId": "c43d4794-7beb-455a-e112-fd63c1af625c"
      },
      "outputs": [
        {
          "name": "stderr",
          "output_type": "stream",
          "text": [
            "21/12/06 11:22:28 WARN CSVHeaderChecker: Number of column in CSV header is not equal to number of fields in the schema:\n",
            " Header length: 3, schema size: 2\n",
            "CSV file: file:///home/codevardhan/dev/mental_health_analysis/data/tweets.csv\n",
            "21/12/06 11:22:28 WARN CSVHeaderChecker: Number of column in CSV header is not equal to number of fields in the schema:\n",
            " Header length: 3, schema size: 2\n",
            "CSV file: file:///home/codevardhan/dev/mental_health_analysis/data/reddit.csv\n"
          ]
        },
        {
          "name": "stdout",
          "output_type": "stream",
          "text": [
            "+--------------------+-----+\n",
            "|            category|count|\n",
            "+--------------------+-----+\n",
            "|                none|  143|\n",
            "|          depression|   29|\n",
            "|                  -1|    7|\n",
            "|                   1|    7|\n",
            "|                   \"|    6|\n",
            "|please help sign ...|    4|\n",
            "|     depression real|    4|\n",
            "|post concert depr...|    4|\n",
            "|someone suffered ...|    3|\n",
            "|     depression joke|    3|\n",
            "|  smiling depression|    2|\n",
            "|post concert depr...|    2|\n",
            "|make sure take ca...|    2|\n",
            "|spiritual awakeni...|    2|\n",
            "|someone suffered ...|    2|\n",
            "|read carefully pl...|    2|\n",
            "|tropical depressi...|    2|\n",
            "|denial anger barg...|    2|\n",
            "|      visit exciting|    2|\n",
            "| seasonal depression|    2|\n",
            "+--------------------+-----+\n",
            "only showing top 20 rows\n",
            "\n"
          ]
        }
      ],
      "source": [
        "from pyspark.sql.functions import col\n",
        "\n",
        "data.groupBy(\"category\").count().orderBy(col(\"count\").desc()).show()"
      ]
    },
    {
      "cell_type": "markdown",
      "metadata": {
        "id": "AD2LGsYwpCnD"
      },
      "source": [
        "*Model Pipeline*"
      ]
    },
    {
      "cell_type": "code",
      "execution_count": 22,
      "metadata": {
        "id": "qv3EJSHapCSA"
      },
      "outputs": [],
      "source": [
        "from pyspark.ml.feature import RegexTokenizer, StopWordsRemover, CountVectorizer\n",
        "from pyspark.ml.classification import LogisticRegression\n",
        "\n",
        "# regular expression tokenizer\n",
        "regexTokenizer = RegexTokenizer(inputCol=\"clean_text\", outputCol=\"words\", pattern=\"\\\\W\")\n",
        "\n",
        "# stop words\n",
        "add_stopwords = [\"http\",\"https\",\"amp\",\"rt\",\"t\",\"c\",\"the\"] \n",
        "\n",
        "stopwordsRemover = StopWordsRemover(inputCol=\"words\", outputCol=\"filtered\").setStopWords(add_stopwords)\n",
        "\n",
        "# bag of words count\n",
        "countVectors = CountVectorizer(inputCol=\"filtered\", outputCol=\"features\", vocabSize=20000, minDF=5)"
      ]
    },
    {
      "cell_type": "code",
      "execution_count": 23,
      "metadata": {
        "colab": {
          "base_uri": "https://localhost:8080/"
        },
        "id": "F4VlwDjDpGud",
        "outputId": "b3fe365a-2735-45c7-d75a-3d4a6dbb893a"
      },
      "outputs": [
        {
          "name": "stderr",
          "output_type": "stream",
          "text": [
            "21/12/06 11:22:32 WARN CSVHeaderChecker: Number of column in CSV header is not equal to number of fields in the schema:\n",
            " Header length: 3, schema size: 2\n",
            "CSV file: file:///home/codevardhan/dev/mental_health_analysis/data/tweets.csv\n",
            "21/12/06 11:22:32 WARN CSVHeaderChecker: Number of column in CSV header is not equal to number of fields in the schema:\n",
            " Header length: 3, schema size: 2\n",
            "CSV file: file:///home/codevardhan/dev/mental_health_analysis/data/reddit.csv\n",
            "21/12/06 11:22:33 WARN CSVHeaderChecker: Number of column in CSV header is not equal to number of fields in the schema:\n",
            " Header length: 3, schema size: 2\n",
            "CSV file: file:///home/codevardhan/dev/mental_health_analysis/data/reddit.csv\n",
            "21/12/06 11:22:33 WARN CSVHeaderChecker: Number of column in CSV header is not equal to number of fields in the schema:\n",
            " Header length: 3, schema size: 2\n",
            "CSV file: file:///home/codevardhan/dev/mental_health_analysis/data/tweets.csv\n"
          ]
        },
        {
          "name": "stdout",
          "output_type": "stream",
          "text": [
            "+----------+--------------------+-----+--------+----------+------+\n",
            "|clean_text|            category|words|filtered|  features| label|\n",
            "+----------+--------------------+-----+--------+----------+------+\n",
            "|         0|                none|  [0]|     [0]|(39,[],[])|   0.0|\n",
            "|         1|worry others focu...|  [1]|     [1]|(39,[],[])|4669.0|\n",
            "|         2|denial anger barg...|  [2]|     [2]|(39,[],[])|1364.0|\n",
            "|         3|really went etern...|  [3]|     [3]|(39,[],[])|3600.0|\n",
            "|         4|2021 chez moi tra...|  [4]|     [4]|(39,[],[])| 664.0|\n",
            "+----------+--------------------+-----+--------+----------+------+\n",
            "only showing top 5 rows\n",
            "\n"
          ]
        },
        {
          "name": "stderr",
          "output_type": "stream",
          "text": [
            "21/12/06 11:22:34 WARN DAGScheduler: Broadcasting large task binary with size 1111.3 KiB\n",
            "21/12/06 11:22:34 WARN CSVHeaderChecker: Number of column in CSV header is not equal to number of fields in the schema:\n",
            " Header length: 3, schema size: 2\n",
            "CSV file: file:///home/codevardhan/dev/mental_health_analysis/data/tweets.csv\n"
          ]
        }
      ],
      "source": [
        "from pyspark.ml import Pipeline\n",
        "from pyspark.ml.feature import OneHotEncoder, StringIndexer, VectorAssembler\n",
        "label_stringIdx = StringIndexer(inputCol = \"category\", outputCol = \"label\")\n",
        "\n",
        "pipeline = Pipeline(stages=[regexTokenizer, stopwordsRemover, countVectors, label_stringIdx])\n",
        "\n",
        "# Fit the pipeline to training documents.\n",
        "pipelineFit = pipeline.fit(data)\n",
        "dataset = pipelineFit.transform(data)\n",
        "dataset.show(5)"
      ]
    },
    {
      "cell_type": "markdown",
      "metadata": {
        "id": "un_2e1xXpIwr"
      },
      "source": [
        "*Partition Training & Test sets & Model Training and Evaluation*"
      ]
    },
    {
      "cell_type": "code",
      "execution_count": 24,
      "metadata": {
        "colab": {
          "base_uri": "https://localhost:8080/"
        },
        "id": "FLfqhl_9pHnI",
        "outputId": "b77402e8-4c77-45c6-e2e7-9c48b4940306"
      },
      "outputs": [
        {
          "name": "stderr",
          "output_type": "stream",
          "text": [
            "21/12/06 11:22:36 WARN DAGScheduler: Broadcasting large task binary with size 1126.6 KiB\n",
            "21/12/06 11:22:36 WARN CSVHeaderChecker: Number of column in CSV header is not equal to number of fields in the schema:\n",
            " Header length: 3, schema size: 2\n",
            "CSV file: file:///home/codevardhan/dev/mental_health_analysis/data/tweets.csv\n",
            "21/12/06 11:22:36 WARN CSVHeaderChecker: Number of column in CSV header is not equal to number of fields in the schema:\n",
            " Header length: 3, schema size: 2\n",
            "CSV file: file:///home/codevardhan/dev/mental_health_analysis/data/reddit.csv\n"
          ]
        },
        {
          "name": "stdout",
          "output_type": "stream",
          "text": [
            "Training Dataset Count: 3624\n"
          ]
        },
        {
          "name": "stderr",
          "output_type": "stream",
          "text": [
            "21/12/06 11:22:36 WARN DAGScheduler: Broadcasting large task binary with size 1126.6 KiB\n",
            "21/12/06 11:22:36 WARN CSVHeaderChecker: Number of column in CSV header is not equal to number of fields in the schema:\n",
            " Header length: 3, schema size: 2\n",
            "CSV file: file:///home/codevardhan/dev/mental_health_analysis/data/tweets.csv\n",
            "21/12/06 11:22:36 WARN CSVHeaderChecker: Number of column in CSV header is not equal to number of fields in the schema:\n",
            " Header length: 3, schema size: 2\n",
            "CSV file: file:///home/codevardhan/dev/mental_health_analysis/data/reddit.csv\n"
          ]
        },
        {
          "name": "stdout",
          "output_type": "stream",
          "text": [
            "Test Dataset Count: 1527\n"
          ]
        }
      ],
      "source": [
        "# set seed for reproducibility\n",
        "(trainingData, testData) = dataset.randomSplit([0.7, 0.3], seed = 100)\n",
        "print(\"Training Dataset Count: \" + str(trainingData.count()))\n",
        "print(\"Test Dataset Count: \" + str(testData.count()))"
      ]
    },
    {
      "cell_type": "code",
      "execution_count": 25,
      "metadata": {
        "colab": {
          "base_uri": "https://localhost:8080/"
        },
        "id": "YH7mTMHHpOGf",
        "outputId": "63592bf4-d984-4d20-fe83-62e936301f76"
      },
      "outputs": [
        {
          "name": "stderr",
          "output_type": "stream",
          "text": [
            "21/12/06 11:22:38 WARN DAGScheduler: Broadcasting large task binary with size 1133.3 KiB\n",
            "21/12/06 11:22:38 WARN CSVHeaderChecker: Number of column in CSV header is not equal to number of fields in the schema:\n",
            " Header length: 3, schema size: 2\n",
            "CSV file: file:///home/codevardhan/dev/mental_health_analysis/data/tweets.csv\n",
            "21/12/06 11:22:38 WARN CSVHeaderChecker: Number of column in CSV header is not equal to number of fields in the schema:\n",
            " Header length: 3, schema size: 2\n",
            "CSV file: file:///home/codevardhan/dev/mental_health_analysis/data/reddit.csv\n",
            "21/12/06 11:22:38 WARN DAGScheduler: Broadcasting large task binary with size 1134.9 KiB\n",
            "21/12/06 11:22:38 WARN CSVHeaderChecker: Number of column in CSV header is not equal to number of fields in the schema:\n",
            " Header length: 3, schema size: 2\n",
            "CSV file: file:///home/codevardhan/dev/mental_health_analysis/data/tweets.csv\n",
            "21/12/06 11:22:38 WARN CSVHeaderChecker: Number of column in CSV header is not equal to number of fields in the schema:\n",
            " Header length: 3, schema size: 2\n",
            "CSV file: file:///home/codevardhan/dev/mental_health_analysis/data/reddit.csv\n",
            "21/12/06 11:22:39 WARN BLAS: Failed to load implementation from: com.github.fommil.netlib.NativeSystemBLAS\n",
            "21/12/06 11:22:39 WARN BLAS: Failed to load implementation from: com.github.fommil.netlib.NativeRefBLAS\n",
            "21/12/06 11:22:39 WARN DAGScheduler: Broadcasting large task binary with size 1134.9 KiB\n",
            "21/12/06 11:22:40 WARN DAGScheduler: Broadcasting large task binary with size 1134.9 KiB\n",
            "21/12/06 11:22:41 WARN DAGScheduler: Broadcasting large task binary with size 1134.9 KiB\n",
            "21/12/06 11:22:42 WARN DAGScheduler: Broadcasting large task binary with size 1134.9 KiB\n",
            "21/12/06 11:22:42 WARN DAGScheduler: Broadcasting large task binary with size 1134.9 KiB\n",
            "21/12/06 11:22:43 WARN DAGScheduler: Broadcasting large task binary with size 1134.9 KiB\n",
            "21/12/06 11:22:44 WARN DAGScheduler: Broadcasting large task binary with size 1134.9 KiB\n",
            "21/12/06 11:22:44 WARN DAGScheduler: Broadcasting large task binary with size 1134.9 KiB\n",
            "21/12/06 11:22:45 WARN DAGScheduler: Broadcasting large task binary with size 1134.9 KiB\n",
            "21/12/06 11:22:45 WARN DAGScheduler: Broadcasting large task binary with size 1134.9 KiB\n",
            "21/12/06 11:22:46 WARN DAGScheduler: Broadcasting large task binary with size 1134.9 KiB\n",
            "21/12/06 11:22:47 WARN DAGScheduler: Broadcasting large task binary with size 1134.9 KiB\n",
            "21/12/06 11:22:47 WARN DAGScheduler: Broadcasting large task binary with size 1134.9 KiB\n",
            "21/12/06 11:22:48 WARN DAGScheduler: Broadcasting large task binary with size 1134.9 KiB\n",
            "21/12/06 11:22:49 WARN DAGScheduler: Broadcasting large task binary with size 1134.9 KiB\n",
            "21/12/06 11:22:49 WARN DAGScheduler: Broadcasting large task binary with size 1134.9 KiB\n",
            "21/12/06 11:22:50 WARN DAGScheduler: Broadcasting large task binary with size 1134.9 KiB\n",
            "21/12/06 11:22:50 WARN DAGScheduler: Broadcasting large task binary with size 1134.9 KiB\n",
            "21/12/06 11:22:51 WARN DAGScheduler: Broadcasting large task binary with size 1134.9 KiB\n",
            "21/12/06 11:22:52 WARN DAGScheduler: Broadcasting large task binary with size 1134.9 KiB\n",
            "21/12/06 11:22:52 WARN DAGScheduler: Broadcasting large task binary with size 1134.9 KiB\n",
            "21/12/06 11:22:53 WARN DAGScheduler: Broadcasting large task binary with size 1134.9 KiB\n",
            "21/12/06 11:22:54 WARN DAGScheduler: Broadcasting large task binary with size 1134.9 KiB\n",
            "21/12/06 11:22:55 WARN DAGScheduler: Broadcasting large task binary with size 2.6 MiB\n",
            "21/12/06 11:22:55 WARN CSVHeaderChecker: Number of column in CSV header is not equal to number of fields in the schema:\n",
            " Header length: 3, schema size: 2\n",
            "CSV file: file:///home/codevardhan/dev/mental_health_analysis/data/tweets.csv\n",
            "21/12/06 11:22:55 WARN CSVHeaderChecker: Number of column in CSV header is not equal to number of fields in the schema:\n",
            " Header length: 3, schema size: 2\n",
            "CSV file: file:///home/codevardhan/dev/mental_health_analysis/data/reddit.csv\n"
          ]
        },
        {
          "name": "stdout",
          "output_type": "stream",
          "text": [
            "+----------+------------------------------+------------------------------+------+----------+\n",
            "|clean_text|                      category|                   probability| label|prediction|\n",
            "+----------+------------------------------+------------------------------+------+----------+\n",
            "|       101| bff who have known since 4...|[0.027181566113153158,0.016...| 161.0|       0.0|\n",
            "|       102| hate being alive hate have...|[0.027181566113153158,0.016...| 320.0|       0.0|\n",
            "|       110| boyfriend super excited ab...|[0.027181566113153158,0.016...| 164.0|       0.0|\n",
            "|       111| feel like struggle articul...|[0.027181566113153158,0.016...| 264.0|       0.0|\n",
            "|       114| won freedom and just becom...|[0.027181566113153158,0.016...| 616.0|       0.0|\n",
            "|       116| year old male had horrible...|[0.027181566113153158,0.016...| 625.0|       0.0|\n",
            "|       118| been trying for years find...|[0.027181566113153158,0.016...| 159.0|       0.0|\n",
            "|       119| useless take space one nee...|[0.027181566113153158,0.016...| 591.0|       0.0|\n",
            "|       128|’ pretty good hiding how de...|[0.027181566113153158,0.016...|4834.0|       0.0|\n",
            "|        13|’ like someone talk ’ just ...|[0.027181566113153158,0.016...|4825.0|       0.0|\n",
            "+----------+------------------------------+------------------------------+------+----------+\n",
            "only showing top 10 rows\n",
            "\n"
          ]
        }
      ],
      "source": [
        "lr = LogisticRegression(maxIter=20, regParam=0.3, elasticNetParam=0)\n",
        "lrModel = lr.fit(trainingData)\n",
        "\n",
        "predictions = lrModel.transform(testData)\n",
        "\n",
        "predictions.filter(predictions['prediction'] == 0).select(\"clean_text\",\"category\",\"probability\",\"label\",\"prediction\")\\\n",
        ".orderBy(\"probability\", ascending=False).show(n = 10, truncate = 30)"
      ]
    },
    {
      "cell_type": "code",
      "execution_count": 29,
      "metadata": {
        "colab": {
          "base_uri": "https://localhost:8080/"
        },
        "id": "Uku1uY6Xpa1y",
        "outputId": "6ab0d552-a3d7-4b04-b9c8-27636131dd9b"
      },
      "outputs": [
        {
          "name": "stderr",
          "output_type": "stream",
          "text": [
            "21/12/06 11:23:00 WARN DAGScheduler: Broadcasting large task binary with size 2.6 MiB\n",
            "21/12/06 11:23:00 WARN CSVHeaderChecker: Number of column in CSV header is not equal to number of fields in the schema:\n",
            " Header length: 3, schema size: 2\n",
            "CSV file: file:///home/codevardhan/dev/mental_health_analysis/data/tweets.csv\n",
            "21/12/06 11:23:00 WARN CSVHeaderChecker: Number of column in CSV header is not equal to number of fields in the schema:\n",
            " Header length: 3, schema size: 2\n",
            "CSV file: file:///home/codevardhan/dev/mental_health_analysis/data/reddit.csv\n"
          ]
        },
        {
          "data": {
            "text/plain": [
              "0.0016466243572194424"
            ]
          },
          "execution_count": 29,
          "metadata": {},
          "output_type": "execute_result"
        }
      ],
      "source": [
        "from pyspark.ml.evaluation import MulticlassClassificationEvaluator\n",
        "evaluator = MulticlassClassificationEvaluator(predictionCol=\"prediction\")\n",
        "evaluator.evaluate(predictions)"
      ]
    },
    {
      "cell_type": "markdown",
      "metadata": {
        "id": "bVcaumOjpkSG"
      },
      "source": []
    },
    {
      "cell_type": "code",
      "execution_count": 27,
      "metadata": {
        "id": "fbxLPyEBLd-_"
      },
      "outputs": [],
      "source": [
        "\n",
        "import os\n",
        "os.environ[\"JAVA_HOME\"] = \"/usr/lib/jvm/java-11-openjdk-amd64\"\n",
        "os.environ[\"SPARK_HOME\"] = \"/content/spark-2.3.2-bin-hadoop2.7\""
      ]
    },
    {
      "cell_type": "code",
      "execution_count": 28,
      "metadata": {
        "colab": {
          "base_uri": "https://localhost:8080/",
          "height": 395
        },
        "id": "6GaLyAACJ6NM",
        "outputId": "96e0e68a-734b-441f-9ae8-e4f367756b09"
      },
      "outputs": [
        {
          "name": "stderr",
          "output_type": "stream",
          "text": [
            "21/12/06 11:22:56 WARN CSVHeaderChecker: Number of column in CSV header is not equal to number of fields in the schema:\n",
            " Header length: 3, schema size: 2\n",
            "CSV file: file:///home/codevardhan/dev/mental_health_analysis/data/tweets.csv\n",
            "21/12/06 11:22:56 WARN CSVHeaderChecker: Number of column in CSV header is not equal to number of fields in the schema:\n",
            " Header length: 3, schema size: 2\n",
            "CSV file: file:///home/codevardhan/dev/mental_health_analysis/data/reddit.csv\n",
            "21/12/06 11:22:57 WARN CSVHeaderChecker: Number of column in CSV header is not equal to number of fields in the schema:\n",
            " Header length: 3, schema size: 2\n",
            "CSV file: file:///home/codevardhan/dev/mental_health_analysis/data/reddit.csv\n",
            "21/12/06 11:22:57 WARN CSVHeaderChecker: Number of column in CSV header is not equal to number of fields in the schema:\n",
            " Header length: 3, schema size: 2\n",
            "CSV file: file:///home/codevardhan/dev/mental_health_analysis/data/tweets.csv\n",
            "21/12/06 11:22:57 WARN DAGScheduler: Broadcasting large task binary with size 1610.2 KiB\n",
            "21/12/06 11:22:57 WARN CSVHeaderChecker: Number of column in CSV header is not equal to number of fields in the schema:\n",
            " Header length: 3, schema size: 2\n",
            "CSV file: file:///home/codevardhan/dev/mental_health_analysis/data/tweets.csv\n",
            "21/12/06 11:22:57 WARN CSVHeaderChecker: Number of column in CSV header is not equal to number of fields in the schema:\n",
            " Header length: 3, schema size: 2\n",
            "CSV file: file:///home/codevardhan/dev/mental_health_analysis/data/reddit.csv\n"
          ]
        },
        {
          "ename": "Py4JJavaError",
          "evalue": "An error occurred while calling o699.fit.\n: java.lang.OutOfMemoryError: Java heap space\n\tat org.apache.spark.ml.linalg.DenseMatrix$.zeros(Matrices.scala:491)\n\tat org.apache.spark.ml.classification.LogisticRegression.createInitialSolution(LogisticRegression.scala:834)\n\tat org.apache.spark.ml.classification.LogisticRegression.$anonfun$train$1(LogisticRegression.scala:613)\n\tat org.apache.spark.ml.classification.LogisticRegression$$Lambda$4015/0x00000001016e6840.apply(Unknown Source)\n\tat org.apache.spark.ml.util.Instrumentation$.$anonfun$instrumented$1(Instrumentation.scala:191)\n\tat org.apache.spark.ml.util.Instrumentation$$$Lambda$4016/0x00000001016e7440.apply(Unknown Source)\n\tat scala.util.Try$.apply(Try.scala:213)\n\tat org.apache.spark.ml.util.Instrumentation$.instrumented(Instrumentation.scala:191)\n\tat org.apache.spark.ml.classification.LogisticRegression.train(LogisticRegression.scala:495)\n\tat org.apache.spark.ml.classification.LogisticRegression.train(LogisticRegression.scala:286)\n\tat org.apache.spark.ml.Predictor.fit(Predictor.scala:151)\n\tat org.apache.spark.ml.Predictor.fit(Predictor.scala:115)\n\tat java.base/jdk.internal.reflect.NativeMethodAccessorImpl.invoke0(Native Method)\n\tat java.base/jdk.internal.reflect.NativeMethodAccessorImpl.invoke(NativeMethodAccessorImpl.java:62)\n\tat java.base/jdk.internal.reflect.DelegatingMethodAccessorImpl.invoke(DelegatingMethodAccessorImpl.java:43)\n\tat java.base/java.lang.reflect.Method.invoke(Method.java:566)\n\tat py4j.reflection.MethodInvoker.invoke(MethodInvoker.java:244)\n\tat py4j.reflection.ReflectionEngine.invoke(ReflectionEngine.java:357)\n\tat py4j.Gateway.invoke(Gateway.java:282)\n\tat py4j.commands.AbstractCommand.invokeMethod(AbstractCommand.java:132)\n\tat py4j.commands.CallCommand.execute(CallCommand.java:79)\n\tat py4j.ClientServerConnection.waitForCommands(ClientServerConnection.java:182)\n\tat py4j.ClientServerConnection.run(ClientServerConnection.java:106)\n\tat java.base/java.lang.Thread.run(Thread.java:829)\n",
          "output_type": "error",
          "traceback": [
            "\u001b[0;31m---------------------------------------------------------------------------\u001b[0m",
            "\u001b[0;31mPy4JJavaError\u001b[0m                             Traceback (most recent call last)",
            "\u001b[0;32m/tmp/ipykernel_17192/1895854264.py\u001b[0m in \u001b[0;36m<module>\u001b[0;34m\u001b[0m\n\u001b[1;32m     10\u001b[0m \u001b[0;34m(\u001b[0m\u001b[0mtrainingData\u001b[0m\u001b[0;34m,\u001b[0m \u001b[0mtestData\u001b[0m\u001b[0;34m)\u001b[0m \u001b[0;34m=\u001b[0m \u001b[0mdataset\u001b[0m\u001b[0;34m.\u001b[0m\u001b[0mrandomSplit\u001b[0m\u001b[0;34m(\u001b[0m\u001b[0;34m[\u001b[0m\u001b[0;36m0.7\u001b[0m\u001b[0;34m,\u001b[0m \u001b[0;36m0.3\u001b[0m\u001b[0;34m]\u001b[0m\u001b[0;34m,\u001b[0m \u001b[0mseed\u001b[0m \u001b[0;34m=\u001b[0m \u001b[0;36m100\u001b[0m\u001b[0;34m)\u001b[0m\u001b[0;34m\u001b[0m\u001b[0;34m\u001b[0m\u001b[0m\n\u001b[1;32m     11\u001b[0m \u001b[0mlr\u001b[0m \u001b[0;34m=\u001b[0m \u001b[0mLogisticRegression\u001b[0m\u001b[0;34m(\u001b[0m\u001b[0mmaxIter\u001b[0m\u001b[0;34m=\u001b[0m\u001b[0;36m20\u001b[0m\u001b[0;34m,\u001b[0m \u001b[0mregParam\u001b[0m\u001b[0;34m=\u001b[0m\u001b[0;36m0.3\u001b[0m\u001b[0;34m,\u001b[0m \u001b[0melasticNetParam\u001b[0m\u001b[0;34m=\u001b[0m\u001b[0;36m0\u001b[0m\u001b[0;34m)\u001b[0m\u001b[0;34m\u001b[0m\u001b[0;34m\u001b[0m\u001b[0m\n\u001b[0;32m---> 12\u001b[0;31m \u001b[0mlrModel\u001b[0m \u001b[0;34m=\u001b[0m \u001b[0mlr\u001b[0m\u001b[0;34m.\u001b[0m\u001b[0mfit\u001b[0m\u001b[0;34m(\u001b[0m\u001b[0mtrainingData\u001b[0m\u001b[0;34m)\u001b[0m\u001b[0;34m\u001b[0m\u001b[0;34m\u001b[0m\u001b[0m\n\u001b[0m\u001b[1;32m     13\u001b[0m \u001b[0;34m\u001b[0m\u001b[0m\n\u001b[1;32m     14\u001b[0m \u001b[0mpredictions\u001b[0m \u001b[0;34m=\u001b[0m \u001b[0mlrModel\u001b[0m\u001b[0;34m.\u001b[0m\u001b[0mtransform\u001b[0m\u001b[0;34m(\u001b[0m\u001b[0mtestData\u001b[0m\u001b[0;34m)\u001b[0m\u001b[0;34m\u001b[0m\u001b[0;34m\u001b[0m\u001b[0m\n",
            "\u001b[0;32m~/dev/mental_health_analysis/env/lib/python3.9/site-packages/pyspark/ml/base.py\u001b[0m in \u001b[0;36mfit\u001b[0;34m(self, dataset, params)\u001b[0m\n\u001b[1;32m    159\u001b[0m                 \u001b[0;32mreturn\u001b[0m \u001b[0mself\u001b[0m\u001b[0;34m.\u001b[0m\u001b[0mcopy\u001b[0m\u001b[0;34m(\u001b[0m\u001b[0mparams\u001b[0m\u001b[0;34m)\u001b[0m\u001b[0;34m.\u001b[0m\u001b[0m_fit\u001b[0m\u001b[0;34m(\u001b[0m\u001b[0mdataset\u001b[0m\u001b[0;34m)\u001b[0m\u001b[0;34m\u001b[0m\u001b[0;34m\u001b[0m\u001b[0m\n\u001b[1;32m    160\u001b[0m             \u001b[0;32melse\u001b[0m\u001b[0;34m:\u001b[0m\u001b[0;34m\u001b[0m\u001b[0;34m\u001b[0m\u001b[0m\n\u001b[0;32m--> 161\u001b[0;31m                 \u001b[0;32mreturn\u001b[0m \u001b[0mself\u001b[0m\u001b[0;34m.\u001b[0m\u001b[0m_fit\u001b[0m\u001b[0;34m(\u001b[0m\u001b[0mdataset\u001b[0m\u001b[0;34m)\u001b[0m\u001b[0;34m\u001b[0m\u001b[0;34m\u001b[0m\u001b[0m\n\u001b[0m\u001b[1;32m    162\u001b[0m         \u001b[0;32melse\u001b[0m\u001b[0;34m:\u001b[0m\u001b[0;34m\u001b[0m\u001b[0;34m\u001b[0m\u001b[0m\n\u001b[1;32m    163\u001b[0m             raise TypeError(\"Params must be either a param map or a list/tuple of param maps, \"\n",
            "\u001b[0;32m~/dev/mental_health_analysis/env/lib/python3.9/site-packages/pyspark/ml/wrapper.py\u001b[0m in \u001b[0;36m_fit\u001b[0;34m(self, dataset)\u001b[0m\n\u001b[1;32m    333\u001b[0m \u001b[0;34m\u001b[0m\u001b[0m\n\u001b[1;32m    334\u001b[0m     \u001b[0;32mdef\u001b[0m \u001b[0m_fit\u001b[0m\u001b[0;34m(\u001b[0m\u001b[0mself\u001b[0m\u001b[0;34m,\u001b[0m \u001b[0mdataset\u001b[0m\u001b[0;34m)\u001b[0m\u001b[0;34m:\u001b[0m\u001b[0;34m\u001b[0m\u001b[0;34m\u001b[0m\u001b[0m\n\u001b[0;32m--> 335\u001b[0;31m         \u001b[0mjava_model\u001b[0m \u001b[0;34m=\u001b[0m \u001b[0mself\u001b[0m\u001b[0;34m.\u001b[0m\u001b[0m_fit_java\u001b[0m\u001b[0;34m(\u001b[0m\u001b[0mdataset\u001b[0m\u001b[0;34m)\u001b[0m\u001b[0;34m\u001b[0m\u001b[0;34m\u001b[0m\u001b[0m\n\u001b[0m\u001b[1;32m    336\u001b[0m         \u001b[0mmodel\u001b[0m \u001b[0;34m=\u001b[0m \u001b[0mself\u001b[0m\u001b[0;34m.\u001b[0m\u001b[0m_create_model\u001b[0m\u001b[0;34m(\u001b[0m\u001b[0mjava_model\u001b[0m\u001b[0;34m)\u001b[0m\u001b[0;34m\u001b[0m\u001b[0;34m\u001b[0m\u001b[0m\n\u001b[1;32m    337\u001b[0m         \u001b[0;32mreturn\u001b[0m \u001b[0mself\u001b[0m\u001b[0;34m.\u001b[0m\u001b[0m_copyValues\u001b[0m\u001b[0;34m(\u001b[0m\u001b[0mmodel\u001b[0m\u001b[0;34m)\u001b[0m\u001b[0;34m\u001b[0m\u001b[0;34m\u001b[0m\u001b[0m\n",
            "\u001b[0;32m~/dev/mental_health_analysis/env/lib/python3.9/site-packages/pyspark/ml/wrapper.py\u001b[0m in \u001b[0;36m_fit_java\u001b[0;34m(self, dataset)\u001b[0m\n\u001b[1;32m    330\u001b[0m         \"\"\"\n\u001b[1;32m    331\u001b[0m         \u001b[0mself\u001b[0m\u001b[0;34m.\u001b[0m\u001b[0m_transfer_params_to_java\u001b[0m\u001b[0;34m(\u001b[0m\u001b[0;34m)\u001b[0m\u001b[0;34m\u001b[0m\u001b[0;34m\u001b[0m\u001b[0m\n\u001b[0;32m--> 332\u001b[0;31m         \u001b[0;32mreturn\u001b[0m \u001b[0mself\u001b[0m\u001b[0;34m.\u001b[0m\u001b[0m_java_obj\u001b[0m\u001b[0;34m.\u001b[0m\u001b[0mfit\u001b[0m\u001b[0;34m(\u001b[0m\u001b[0mdataset\u001b[0m\u001b[0;34m.\u001b[0m\u001b[0m_jdf\u001b[0m\u001b[0;34m)\u001b[0m\u001b[0;34m\u001b[0m\u001b[0;34m\u001b[0m\u001b[0m\n\u001b[0m\u001b[1;32m    333\u001b[0m \u001b[0;34m\u001b[0m\u001b[0m\n\u001b[1;32m    334\u001b[0m     \u001b[0;32mdef\u001b[0m \u001b[0m_fit\u001b[0m\u001b[0;34m(\u001b[0m\u001b[0mself\u001b[0m\u001b[0;34m,\u001b[0m \u001b[0mdataset\u001b[0m\u001b[0;34m)\u001b[0m\u001b[0;34m:\u001b[0m\u001b[0;34m\u001b[0m\u001b[0;34m\u001b[0m\u001b[0m\n",
            "\u001b[0;32m~/dev/mental_health_analysis/env/lib/python3.9/site-packages/py4j/java_gateway.py\u001b[0m in \u001b[0;36m__call__\u001b[0;34m(self, *args)\u001b[0m\n\u001b[1;32m   1307\u001b[0m \u001b[0;34m\u001b[0m\u001b[0m\n\u001b[1;32m   1308\u001b[0m         \u001b[0manswer\u001b[0m \u001b[0;34m=\u001b[0m \u001b[0mself\u001b[0m\u001b[0;34m.\u001b[0m\u001b[0mgateway_client\u001b[0m\u001b[0;34m.\u001b[0m\u001b[0msend_command\u001b[0m\u001b[0;34m(\u001b[0m\u001b[0mcommand\u001b[0m\u001b[0;34m)\u001b[0m\u001b[0;34m\u001b[0m\u001b[0;34m\u001b[0m\u001b[0m\n\u001b[0;32m-> 1309\u001b[0;31m         return_value = get_return_value(\n\u001b[0m\u001b[1;32m   1310\u001b[0m             answer, self.gateway_client, self.target_id, self.name)\n\u001b[1;32m   1311\u001b[0m \u001b[0;34m\u001b[0m\u001b[0m\n",
            "\u001b[0;32m~/dev/mental_health_analysis/env/lib/python3.9/site-packages/pyspark/sql/utils.py\u001b[0m in \u001b[0;36mdeco\u001b[0;34m(*a, **kw)\u001b[0m\n\u001b[1;32m    109\u001b[0m     \u001b[0;32mdef\u001b[0m \u001b[0mdeco\u001b[0m\u001b[0;34m(\u001b[0m\u001b[0;34m*\u001b[0m\u001b[0ma\u001b[0m\u001b[0;34m,\u001b[0m \u001b[0;34m**\u001b[0m\u001b[0mkw\u001b[0m\u001b[0;34m)\u001b[0m\u001b[0;34m:\u001b[0m\u001b[0;34m\u001b[0m\u001b[0;34m\u001b[0m\u001b[0m\n\u001b[1;32m    110\u001b[0m         \u001b[0;32mtry\u001b[0m\u001b[0;34m:\u001b[0m\u001b[0;34m\u001b[0m\u001b[0;34m\u001b[0m\u001b[0m\n\u001b[0;32m--> 111\u001b[0;31m             \u001b[0;32mreturn\u001b[0m \u001b[0mf\u001b[0m\u001b[0;34m(\u001b[0m\u001b[0;34m*\u001b[0m\u001b[0ma\u001b[0m\u001b[0;34m,\u001b[0m \u001b[0;34m**\u001b[0m\u001b[0mkw\u001b[0m\u001b[0;34m)\u001b[0m\u001b[0;34m\u001b[0m\u001b[0;34m\u001b[0m\u001b[0m\n\u001b[0m\u001b[1;32m    112\u001b[0m         \u001b[0;32mexcept\u001b[0m \u001b[0mpy4j\u001b[0m\u001b[0;34m.\u001b[0m\u001b[0mprotocol\u001b[0m\u001b[0;34m.\u001b[0m\u001b[0mPy4JJavaError\u001b[0m \u001b[0;32mas\u001b[0m \u001b[0me\u001b[0m\u001b[0;34m:\u001b[0m\u001b[0;34m\u001b[0m\u001b[0;34m\u001b[0m\u001b[0m\n\u001b[1;32m    113\u001b[0m             \u001b[0mconverted\u001b[0m \u001b[0;34m=\u001b[0m \u001b[0mconvert_exception\u001b[0m\u001b[0;34m(\u001b[0m\u001b[0me\u001b[0m\u001b[0;34m.\u001b[0m\u001b[0mjava_exception\u001b[0m\u001b[0;34m)\u001b[0m\u001b[0;34m\u001b[0m\u001b[0;34m\u001b[0m\u001b[0m\n",
            "\u001b[0;32m~/dev/mental_health_analysis/env/lib/python3.9/site-packages/py4j/protocol.py\u001b[0m in \u001b[0;36mget_return_value\u001b[0;34m(answer, gateway_client, target_id, name)\u001b[0m\n\u001b[1;32m    324\u001b[0m             \u001b[0mvalue\u001b[0m \u001b[0;34m=\u001b[0m \u001b[0mOUTPUT_CONVERTER\u001b[0m\u001b[0;34m[\u001b[0m\u001b[0mtype\u001b[0m\u001b[0;34m]\u001b[0m\u001b[0;34m(\u001b[0m\u001b[0manswer\u001b[0m\u001b[0;34m[\u001b[0m\u001b[0;36m2\u001b[0m\u001b[0;34m:\u001b[0m\u001b[0;34m]\u001b[0m\u001b[0;34m,\u001b[0m \u001b[0mgateway_client\u001b[0m\u001b[0;34m)\u001b[0m\u001b[0;34m\u001b[0m\u001b[0;34m\u001b[0m\u001b[0m\n\u001b[1;32m    325\u001b[0m             \u001b[0;32mif\u001b[0m \u001b[0manswer\u001b[0m\u001b[0;34m[\u001b[0m\u001b[0;36m1\u001b[0m\u001b[0;34m]\u001b[0m \u001b[0;34m==\u001b[0m \u001b[0mREFERENCE_TYPE\u001b[0m\u001b[0;34m:\u001b[0m\u001b[0;34m\u001b[0m\u001b[0;34m\u001b[0m\u001b[0m\n\u001b[0;32m--> 326\u001b[0;31m                 raise Py4JJavaError(\n\u001b[0m\u001b[1;32m    327\u001b[0m                     \u001b[0;34m\"An error occurred while calling {0}{1}{2}.\\n\"\u001b[0m\u001b[0;34m.\u001b[0m\u001b[0;34m\u001b[0m\u001b[0;34m\u001b[0m\u001b[0m\n\u001b[1;32m    328\u001b[0m                     format(target_id, \".\", name), value)\n",
            "\u001b[0;31mPy4JJavaError\u001b[0m: An error occurred while calling o699.fit.\n: java.lang.OutOfMemoryError: Java heap space\n\tat org.apache.spark.ml.linalg.DenseMatrix$.zeros(Matrices.scala:491)\n\tat org.apache.spark.ml.classification.LogisticRegression.createInitialSolution(LogisticRegression.scala:834)\n\tat org.apache.spark.ml.classification.LogisticRegression.$anonfun$train$1(LogisticRegression.scala:613)\n\tat org.apache.spark.ml.classification.LogisticRegression$$Lambda$4015/0x00000001016e6840.apply(Unknown Source)\n\tat org.apache.spark.ml.util.Instrumentation$.$anonfun$instrumented$1(Instrumentation.scala:191)\n\tat org.apache.spark.ml.util.Instrumentation$$$Lambda$4016/0x00000001016e7440.apply(Unknown Source)\n\tat scala.util.Try$.apply(Try.scala:213)\n\tat org.apache.spark.ml.util.Instrumentation$.instrumented(Instrumentation.scala:191)\n\tat org.apache.spark.ml.classification.LogisticRegression.train(LogisticRegression.scala:495)\n\tat org.apache.spark.ml.classification.LogisticRegression.train(LogisticRegression.scala:286)\n\tat org.apache.spark.ml.Predictor.fit(Predictor.scala:151)\n\tat org.apache.spark.ml.Predictor.fit(Predictor.scala:115)\n\tat java.base/jdk.internal.reflect.NativeMethodAccessorImpl.invoke0(Native Method)\n\tat java.base/jdk.internal.reflect.NativeMethodAccessorImpl.invoke(NativeMethodAccessorImpl.java:62)\n\tat java.base/jdk.internal.reflect.DelegatingMethodAccessorImpl.invoke(DelegatingMethodAccessorImpl.java:43)\n\tat java.base/java.lang.reflect.Method.invoke(Method.java:566)\n\tat py4j.reflection.MethodInvoker.invoke(MethodInvoker.java:244)\n\tat py4j.reflection.ReflectionEngine.invoke(ReflectionEngine.java:357)\n\tat py4j.Gateway.invoke(Gateway.java:282)\n\tat py4j.commands.AbstractCommand.invokeMethod(AbstractCommand.java:132)\n\tat py4j.commands.CallCommand.execute(CallCommand.java:79)\n\tat py4j.ClientServerConnection.waitForCommands(ClientServerConnection.java:182)\n\tat py4j.ClientServerConnection.run(ClientServerConnection.java:106)\n\tat java.base/java.lang.Thread.run(Thread.java:829)\n"
          ]
        }
      ],
      "source": [
        "from pyspark.ml.feature import HashingTF, IDF\n",
        "\n",
        "hashingTF = HashingTF(inputCol=\"filtered\", outputCol=\"rawFeatures\", numFeatures=30000)\n",
        "idf = IDF(inputCol=\"rawFeatures\", outputCol=\"features\", minDocFreq=5) #minDocFreq: remove sparse terms\n",
        "pipeline = Pipeline(stages=[regexTokenizer, stopwordsRemover, hashingTF, idf, label_stringIdx])\n",
        "\n",
        "pipelineFit = pipeline.fit(data)\n",
        "dataset = pipelineFit.transform(data)\n",
        "\n",
        "(trainingData, testData) = dataset.randomSplit([0.7, 0.3], seed = 100)\n",
        "lr = LogisticRegression(maxIter=20, regParam=0.3, elasticNetParam=0)\n",
        "lrModel = lr.fit(trainingData)\n",
        "\n",
        "predictions = lrModel.transform(testData)\n",
        "\n",
        "predictions.filter(predictions['prediction'] == 0) \\\n",
        "    .select(\"clean_text\",\"category\",\"probability\",\"label\",\"prediction\") \\\n",
        "    .orderBy(\"probability\", ascending=False) \\\n",
        "    .show(n = 10, truncate = 30)"
      ]
    },
    {
      "cell_type": "code",
      "execution_count": null,
      "metadata": {
        "id": "tKIzf7t1KRIi"
      },
      "outputs": [],
      "source": []
    }
  ],
  "metadata": {
    "colab": {
      "name": "Twitter_LR.ipynb",
      "provenance": []
    },
    "kernelspec": {
      "display_name": "Python 3",
      "name": "python3"
    },
    "language_info": {
      "codemirror_mode": {
        "name": "ipython",
        "version": 3
      },
      "file_extension": ".py",
      "mimetype": "text/x-python",
      "name": "python",
      "nbconvert_exporter": "python",
      "pygments_lexer": "ipython3",
      "version": "3.9.5"
    }
  },
  "nbformat": 4,
  "nbformat_minor": 0
}
